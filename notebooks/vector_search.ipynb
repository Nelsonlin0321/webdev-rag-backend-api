{
 "cells": [
  {
   "cell_type": "code",
   "execution_count": 1,
   "metadata": {},
   "outputs": [],
   "source": [
    "import os\n",
    "from sentence_transformers import SentenceTransformer"
   ]
  },
  {
   "cell_type": "code",
   "execution_count": 2,
   "metadata": {},
   "outputs": [
    {
     "data": {
      "text/plain": [
       "True"
      ]
     },
     "execution_count": 2,
     "metadata": {},
     "output_type": "execute_result"
    }
   ],
   "source": [
    "import dotenv\n",
    "dotenv.load_dotenv()"
   ]
  },
  {
   "cell_type": "code",
   "execution_count": 3,
   "metadata": {},
   "outputs": [],
   "source": [
    "model = SentenceTransformer('BAAI/bge-small-en-v1.5')"
   ]
  },
  {
   "cell_type": "code",
   "execution_count": 4,
   "metadata": {},
   "outputs": [],
   "source": [
    "from pymongo.mongo_client import MongoClient\n",
    "from pymongo.server_api import ServerApi"
   ]
  },
  {
   "cell_type": "code",
   "execution_count": 5,
   "metadata": {},
   "outputs": [],
   "source": [
    "MONGODB_URL = os.getenv(\"MONGODB_URL\")"
   ]
  },
  {
   "cell_type": "code",
   "execution_count": 6,
   "metadata": {},
   "outputs": [],
   "source": [
    "# Create a new client and connect to the server\n",
    "mongo_client = MongoClient(MONGODB_URL, server_api=ServerApi('1'))"
   ]
  },
  {
   "cell_type": "code",
   "execution_count": 18,
   "metadata": {},
   "outputs": [],
   "source": [
    "question = \"What are steps to take when finding projects to build your experience?\"\n",
    "question = \"The percentage of the asset allocation with a duration longer than 7 years is less than 20% ?\""
   ]
  },
  {
   "cell_type": "code",
   "execution_count": 19,
   "metadata": {},
   "outputs": [],
   "source": [
    "fileName = \"SUNY RF - General Investment Policy and Guidelines.pdf\""
   ]
  },
  {
   "cell_type": "code",
   "execution_count": 20,
   "metadata": {},
   "outputs": [],
   "source": [
    "question_embedding = model.encode(question, normalize_embeddings=True)"
   ]
  },
  {
   "cell_type": "code",
   "execution_count": 21,
   "metadata": {},
   "outputs": [
    {
     "data": {
      "text/plain": [
       "0.13422016796539538"
      ]
     },
     "execution_count": 21,
     "metadata": {},
     "output_type": "execute_result"
    }
   ],
   "source": [
    "sum(question_embedding)"
   ]
  },
  {
   "cell_type": "markdown",
   "metadata": {},
   "source": [
    "```json\n",
    "{\n",
    "  \"fields\": [\n",
    "    {\n",
    "      \"numDimensions\": 384,\n",
    "      \"path\": \"embedding\",\n",
    "      \"similarity\": \"dotProduct\",\n",
    "      \"type\": \"vector\"\n",
    "    },\n",
    "    {\n",
    "      \"path\": \"fileName\",\n",
    "      \"type\": \"filter\"\n",
    "    }\n",
    "  ]\n",
    "}\n",
    "```"
   ]
  },
  {
   "cell_type": "code",
   "execution_count": 22,
   "metadata": {},
   "outputs": [],
   "source": [
    "query_vector = question_embedding.tolist()"
   ]
  },
  {
   "cell_type": "code",
   "execution_count": 23,
   "metadata": {},
   "outputs": [],
   "source": [
    "results = mongo_client[\"RAG\"]['DocumentEmbedding'].aggregate([\n",
    "    {\n",
    "\n",
    "        \"$vectorSearch\": {\n",
    "            \"index\": \"vector_index\",\n",
    "            \"path\": \"embedding\",\n",
    "            \"queryVector\": query_vector,\n",
    "            \"numCandidates\": 5,\n",
    "            \"limit\": 5,\n",
    "            \"filter\": {\"fileName\": {\"$eq\": fileName}}\n",
    "        }\n",
    "\n",
    "    },\n",
    "    {\n",
    "\n",
    "        '$project': {\n",
    "            'embedding': 0,\n",
    "            \"_id\": 0,\n",
    "            \"score\": {\"$meta\": \"vectorSearchScore\"},\n",
    "        }\n",
    "\n",
    "    }\n",
    "\n",
    "])"
   ]
  },
  {
   "cell_type": "code",
   "execution_count": 24,
   "metadata": {},
   "outputs": [],
   "source": [
    "results = list(results)"
   ]
  },
  {
   "cell_type": "code",
   "execution_count": null,
   "metadata": {},
   "outputs": [],
   "source": [
    "\n"
   ]
  },
  {
   "cell_type": "code",
   "execution_count": 25,
   "metadata": {},
   "outputs": [
    {
     "data": {
      "text/plain": [
       "[{'fileName': 'SUNY RF - General Investment Policy and Guidelines.pdf',\n",
       "  'textIdx': 6,\n",
       "  'pageLabel': '7',\n",
       "  'text': 'Research  Foundation  for the State University of New York  \\nInvestment Policy and Guidelines  \\n \\nSeptember 21, 2023  \\n \\n7 \\n  \\n \\nD. Asset Allocation  \\nIn order to  have a reasonable probability of consistently achieving the RF’s long term return objectives, \\nthe Committee has adopted the asset allocation policies outlined below : \\n \\n \\nOPERATIONAL POOL MEDIUM DURATION  \\nAsset Class  Long Term Target %  Ranges  \\nCash  3% 0-10% \\n      \\nFixed Income  31.5%  15-45% \\nGovernment Bonds  12.5%    0-20%  \\nCredit  19% 5-30% \\n   \\nEquities  33% 20-40% \\nGlobal Equities  17% 10-30% \\nHedged Equities  16% 0-30% \\nPrivate Equity  0% 0% \\n      \\nAbsolute Return  15% 0-25% \\n      \\nReal Assets  17.5%  5-30% \\nInflation -Protected  12.5%  0-20% \\nCommodities  0% 0-5% \\nGlobal Real Estate  5% 2-15% \\n \\n \\n OPERATIONAL POOL  LONG DURATION  \\nAsset Class  Long Term Target %  Ranges  \\nCash  1% 0-10% \\n      \\nFixed Income  21% 5-30% \\nGovernment Bonds  8% 0-30% \\nCredit   4%  0-20%  \\nPrivate Debt  9% 0-20% \\n   \\nEquities  60% 40-80% \\nGlobal Equities  28% 20-50% \\nHedged Equities  15% 0-25% \\nPrivate Equity  17% 0-25% \\n      \\nAbsolute Return  5% 0-20% \\n      \\nReal Assets  13% 10-30% \\nInflation -Protected  3% 0-10% \\nCommodities  0% 0-10% ',\n",
       "  'score': 0.8712109327316284},\n",
       " {'fileName': 'SUNY RF - General Investment Policy and Guidelines.pdf',\n",
       "  'textIdx': 4,\n",
       "  'pageLabel': '5',\n",
       "  'text': 'Research  Foundation  for the State University of New York  \\nInvestment Policy and Guidelines  \\n \\nSeptember 21, 2023  \\n \\n5 \\n  \\n \\nOperational Pool s - Funds are invested in one of these pools when the Liquid /Short Term Pool contains \\nexcess cash .  \\n \\nThe objectives for the Operational Pool are as follows:  \\n \\n• Ensure adequate liquidity for operating  needs  \\n• Preserve capital in negative market environments  \\n• Provide annual support for the RF’s operating budget and preserve  the real purchasing power \\n(after inflation and fees) of the assets over time  \\n• Generate reasonable  risk-adjusted returns  that compare favorably with peer institutions  \\n \\nEach pool has a different risk, return, and liquidity profile.  Portfolio construction and manager selection \\nshould be aligned with the respective goals of each pool.  \\n \\n• Operational Pool Medium Duration:  70% of the portfolio is assumed to have a duration of 1 -6 \\nyears.  30% of the portfolio is assumed to have potential for withdrawal in less than a year.     Long \\nterm return target of 5.0% .  Aim to minimize the probability of a decline in excess of 5% in any \\nsingle year.  \\n• Operational Pool Long Duration:  80% of the portfolio is assumed to have a duration of 7 -10 years \\nor longer.   Long term return target of 7 %.   Aim to minimize the probability of a decline in excess  of \\n15% in any single year.  \\n \\nVoluntary Employee Beneficiary (VEBA) Trust  – A VEBA Trust has been established to separately \\ninvest funds for post-retirement health care benefits to eligible employees.  The VEBA Trust is a separate \\nlegal entity .  \\n \\nThese funds are designated to meet the cost of health insurance for current and future retirees.  \\n \\nThe investment strategy for the trust should allow the RF to meet ongoing obligations while minimizing \\ncontributions and controlling risks.   \\nOrdinarily, the asset allocation plan would be structured such that:  \\n \\n• Short term liabilities are funded by short term assets  \\n• Intermediate term liabilities are funded by intermediate term assets  \\n• Long term liabilities are funded by long term assets    \\nCurrently short and intermediate term liabilities will be paid from routine operational cash that is collected \\nas part of the fringe benefit rate charged against salaries. Accordingly assets within the Trust should be \\nallocated to fund long term liabilities. If the funding plan changes and funds are deposited to cover the \\ncurrent year benefit obligations, these funds will be invested in cash/short term assets and available for \\nmonthly withdrawals.   \\n \\n• 80% of the portfolio is assumed to have a duration of 7 -10 years or longer .  Long term return target \\nof 7%.   Aim to minimize the probability of a decline in excess of 15% in any single year.  ',\n",
       "  'score': 0.8575598001480103},\n",
       " {'fileName': 'SUNY RF - General Investment Policy and Guidelines.pdf',\n",
       "  'textIdx': 7,\n",
       "  'pageLabel': '8',\n",
       "  'text': 'Research  Foundation  for the State University of New York  \\nInvestment Policy and Guidelines  \\n \\nSeptember 21, 2023  \\n \\n8 \\n Global Real Estate  10% 5-20% \\n   \\n \\nVoluntary Employee Beneficiary Association (VEBA) Trust  \\nAsset Class  Long Term Target %  Ranges  \\nCash  1% 0-10% \\n      \\nFixed Income  21% 5-30% \\nGovernment Bonds  8% 0-30% \\nCredit  4% 0-20% \\nPrivate Debt  9% 0-20% \\n      \\nEquities  60% 40-80% \\nGlobal Equities  28% 20-50% \\nHedged Equities  15% 0-25% \\nPrivate Equity  17% 0-25% \\n      \\nAbsolute Return  5% 0-20% \\n      \\nReal Assets  13% 10-30% \\nInflation -Protected  3% 0-10% \\nCommodities  0% 0-10% \\nGlobal Real Estate  10% 5-20% \\n \\n  \\nE. Ineligible Investments  \\nUnless specifically approved by the Committee  or consistent with the Exception below , certain securities, \\nstrategies and investments are ineligible for direct investment:  \\n• Derivative instruments, except as otherwise permitted in the Derivatives Policy and for Currency \\nhedging overlays.  \\n• Privately -placed debt, except marketable securities issued under Rule 144A.  \\n• Initial investments in lettered, legend or other so -called restricted stock.  \\n• Private placements,  real estate, oil and gas and venture capital .   \\n• Investments in transactions that may generate unrelated business taxable income (“UBTI”)  are \\npermitted as long as it is expected to be low and UBTI at the portfolio level is well below 10% of \\ntotal revenue . \\n• Investments or transactions that would be non -exempt prohibited transactions under Section 406 of \\nERISA or Section 4975 of the Internal Revenue Code.  \\n• Securities of the investment manager, their parent  or subsidiary companies (excluding money \\nmarket funds) or any other security that could be considered a self -dealing transaction.  ',\n",
       "  'score': 0.8482080698013306},\n",
       " {'fileName': 'SUNY RF - General Investment Policy and Guidelines.pdf',\n",
       "  'textIdx': 16,\n",
       "  'pageLabel': '17',\n",
       "  'text': 'Research  Foundation  for the State University of New York  \\nInvestment Policy and Guidelines  \\n \\nSeptember 21, 2023  \\n \\n17 \\n objectives requires prudent risk -taking, and that risk is the prerequisite for generating excess investment \\nreturns.  \\n \\nThe Committee’s policy regarding investment risk, consistent with modern portfolio theory, is that risk \\ncannot be eliminated but should be managed. That is, the level of risk taken should be consistent with the \\nreturn objectives of the various investment p ools. The Committee is responsible for:  \\n \\n• understanding the risks in various investment strategies  \\n• measuring and monitoring risks  \\n• ensuring proper return relevant to risk  \\n \\n  \\nThe Committee establishes the framework for risk management through the investment policy, which \\nincludes such items as the strategic asset allocation and performance objectives. However, tolerance for \\nrisk may also be expressed in the form of various othe r metrics or types of risk. The Committee  is \\nresponsible for managing total risk and shall implement procedures and safeguards so that the combined \\nrisk exposures of all portfolios in the aggregate are kept within limits established .  Although the \\nmanageme nt of investment portfolios may be outsourced, investment oversight and risk management are \\nprimary fiduciary duties of the Committee .  \\n \\nPrincipal risks that impact the investment program  \\n \\nGeneral risks  \\n \\n• Market risk  is the risk that the value of an investment will decrease due to moves in market factors.  \\n• Liquidity risk is the risk that arises from the difficulty of selling an investment.  Some assets are highly \\nliquid and have low liquidity risk, while other assets are highly illiquid and have high liquidity  risk. \\n• Interest rate risk is the risk that changes in interest rates will adversely affect the fair value of the \\ninvestment.  \\n• Concentration of credit risk  is defined as an excess of investments in any one issuer or exposure to a \\nnumber of counterparties engaged in similar activities and having similar economic characteristics that \\nwould be similarly affected by changes in economic or other conditions.  \\n• Credit risk is the risk of loss due to a debtor’s non -payment of a fixed income instrument (either the \\nprincipal or interest (coupon) or both).  \\n• Custodial credit risk  is the risk that, in the event of a failure of the counterparty, the RF will not be able \\nto recover the value of its investment or collateral securities that are in the possession of an outside \\nparty.  Investment securities are exposed to custodial credit risk if the securities are uninsured, are not \\nregistered in the name of the RF and are held by either the counterparty or the counterparty’s trust \\ndepartment or agent but not in the RF’s name.  \\n• Foreign currency risk  is the risk that changes in exchange rates will adversely affect the fair value of an \\ninvestment or a deposit.  \\n \\nOperational Risk  \\n \\n• Management risk  is the overall structure established to provide the framework for an efficient and \\neffective investment process. This includes such items as board committee structure; investment policy ',\n",
       "  'score': 0.8402507305145264},\n",
       " {'fileName': 'SUNY RF - General Investment Policy and Guidelines.pdf',\n",
       "  'textIdx': 11,\n",
       "  'pageLabel': '12',\n",
       "  'text': 'Research  Foundation  for the State University of New York  \\nInvestment Policy and Guidelines  \\n \\nSeptember 21, 2023  \\n \\n12 \\n Creation of Market Exposures : Investment managers are permitted to use derivatives to replicate \\nthe risk/return profile of an asset or asset class provided that the guidelines for the investment \\nmanager allow for such exposures to be created with the underlying assets themselves.   \\n \\nManagement of Country and Asset Allocation Exposure:   Managers charged with tactically \\nchanging the exposure of their portfolio to different countries and/or asset classes are permitted to \\nuse derivative contracts for this purpose.  \\n \\nBy way of amplification, it is noted that the following two uses of derivatives are prohibited:  \\n \\nLeverage :  Derivatives shall not be used to magnify overall portfolio exposure to an asset, asset \\nclass, interest rate, or any other financial vehicle beyond that which would be allowed by a \\nportfolio’s investment guidelines if derivatives were not used.  \\n  \\nUnrelated Speculation :  Derivatives shall not be used to create exposures to securities, currencies, \\nindices, or any other financial vehicle unless such exposures would be allowed by a portfolio’s \\ninvestment guidelines if created with non -derivative securities.  \\n \\n6. Other Considerations  \\nThe Committee considers environment, social and governance (ESG) factors in making its \\ninvestment decisions. While the Committee’s primary objective is to manage capital prudently and \\nseek financial return for the benefit of the institution, th e Committee believes that evaluating ESG \\nconsiderations and risks is consistent with the goal of maximizing the long term risk  adjusted returns \\nof the portfolio. Since the Committee manages the portfolio predominantly through external \\ninvestment managers, it seeks to engage in a dialog with these managers about integrating ESG \\nconsiderations into their investment processes and  ownership philosophy with the assistance of its \\ninvestment advisor.  \\n \\nThe Committee recognizes that as an economic development and innovation engine, SUNY and its \\ncampuses may wish to use unrestricted funds on investments enabling SUNY research and \\ninnovation to transform the world’s knowledge economy and solving the world’s most pressing \\nproblems.  Thus, the Committee recognizes that in certain circumstances RF management should be \\nallowed to approve requests from campuses to reinvest income generated from intellectual property \\nlicenses in SUNY  Affiliated Startup Companies.  \\n \\nIII. Performance Standards and Evaluation  \\nInvestment performance , portfolio risk exposure and risk -adjusted returns will be evaluated and compared \\nwith peer institutions, the Allocation Index, and the Policy Index.  While it is anticipated that there will be \\nfluctuations in investment performance, the investments should , at a minimum, produce a long term rate of \\nreturn, net of all expenses, that approximates the Policy Index.  Returns for the RF and for individual \\nmanagers are expected to rank in the top third of comparable funds or managers, respe ctively, over a full \\nmarket cycle.  \\n \\n1 Allocation Index is calculated by taking the actual asset class weights, at quarter end, times the return of the \\nrespective passive benchmark.  It measures the effectiveness of the portfolios’ deviations from target weights.  \\n ',\n",
       "  'score': 0.8390599489212036}]"
      ]
     },
     "execution_count": 25,
     "metadata": {},
     "output_type": "execute_result"
    }
   ],
   "source": [
    "results"
   ]
  },
  {
   "cell_type": "markdown",
   "metadata": {},
   "source": []
  }
 ],
 "metadata": {
  "kernelspec": {
   "display_name": ".venv",
   "language": "python",
   "name": "python3"
  },
  "language_info": {
   "codemirror_mode": {
    "name": "ipython",
    "version": 3
   },
   "file_extension": ".py",
   "mimetype": "text/x-python",
   "name": "python",
   "nbconvert_exporter": "python",
   "pygments_lexer": "ipython3",
   "version": "3.11.3"
  }
 },
 "nbformat": 4,
 "nbformat_minor": 2
}
