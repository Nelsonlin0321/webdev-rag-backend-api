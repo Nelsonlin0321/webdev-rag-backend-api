{
 "cells": [
  {
   "cell_type": "code",
   "execution_count": 1,
   "metadata": {},
   "outputs": [],
   "source": [
    "import sys\n",
    "sys.path.insert(0, \"./../\")"
   ]
  },
  {
   "cell_type": "code",
   "execution_count": 9,
   "metadata": {},
   "outputs": [],
   "source": [
    "import json"
   ]
  },
  {
   "cell_type": "code",
   "execution_count": 2,
   "metadata": {},
   "outputs": [],
   "source": [
    "from app.risk_evaluator import RiskEvaluator"
   ]
  },
  {
   "cell_type": "code",
   "execution_count": 3,
   "metadata": {},
   "outputs": [],
   "source": [
    "risk_evaluator = RiskEvaluator(\n",
    "    file_name=\"SUNY RF - General Investment Policy and Guidelines.pdf\")"
   ]
  },
  {
   "cell_type": "code",
   "execution_count": 4,
   "metadata": {},
   "outputs": [],
   "source": [
    "criteria_list = [\n",
    "    {\"context\": \"allocation of bonds\",\n",
    "     \"question\": \"Is the percentage of bonds larger than 20% ?\"\n",
    "     },\n",
    "    {\"context\": \"percentage of hedged equities\",\n",
    "     \"question\": \"Is the percentage of hedged equities larger than 30% ?\"\n",
    "     },\n",
    "    {\"context\": \"asset allocation compliance policy\",\n",
    "     \"question\": \"Is there any asset allocation compliance policy ?\"\n",
    "     },\n",
    "    {\"context\": \"allocation of asset with more than 10 year period\",\n",
    "     \"question\": \"allocation of asset with more than 10 year period is larger than 20% ?\"\n",
    "     },\n",
    "]"
   ]
  },
  {
   "cell_type": "code",
   "execution_count": 5,
   "metadata": {},
   "outputs": [],
   "source": [
    "risk_definition = \"\"\"\"\n",
    "if fulfill all criteria, return HIGH RISK\n",
    "if fulfill criteria more than 2 or equal to 3, return MEDIUM RISK\n",
    "if fulfill criteria less than 2 criteria return LOW RISK\n",
    "\"\"\""
   ]
  },
  {
   "cell_type": "code",
   "execution_count": 6,
   "metadata": {},
   "outputs": [
    {
     "name": "stderr",
     "output_type": "stream",
     "text": [
      "100%|██████████| 4/4 [00:33<00:00,  8.38s/it]\n"
     ]
    }
   ],
   "source": [
    "criteria_with_answer_list, risk_level = risk_evaluator.evaluate_risk(criteria_list=criteria_list,\n",
    "                                                                     risk_level_definition=risk_definition)"
   ]
  },
  {
   "cell_type": "code",
   "execution_count": 21,
   "metadata": {},
   "outputs": [
    {
     "data": {
      "text/plain": [
       "[{'answer': 'YES',\n",
       "  'page_number': '7',\n",
       "  'reason': 'The percentage of bonds in the asset allocation is 31.5%, which is larger than 20%.',\n",
       "  'question': 'Is the percentage of bonds larger than 20% ?'},\n",
       " {'answer': 'NO',\n",
       "  'page_number': '11',\n",
       "  'reason': 'The percentage of hedged equities is stated as 15% with a range of 0-25% on page 11.',\n",
       "  'question': 'Is the percentage of hedged equities larger than 30% ?'},\n",
       " {'answer': 'Yes',\n",
       "  'page_number': '6',\n",
       "  'reason': 'The Investment Guidelines and Asset Allocation section on page 6 mentions that if any asset class weighting is outside its respective permissible range by +/- 5 percent at the end of any calendar quarter, the investment consultant will advise the Committee at the next Committee meeting. The portfolio should be re-balanced to bring the portfolio into compliance with these guidelines as promptly and prudently as possible.',\n",
       "  'question': 'Is there any asset allocation compliance policy ?'},\n",
       " {'answer': 'YES',\n",
       "  'page_number': '7',\n",
       "  'reason': \"On page 7, under the 'OPERATIONAL POOL LONG DURATION' section, the asset class 'Equities' has a long-term target allocation of 60%, which is larger than 20%.\",\n",
       "  'question': 'allocation of asset with more than 10 year period is larger than 20% ?'}]"
      ]
     },
     "execution_count": 21,
     "metadata": {},
     "output_type": "execute_result"
    }
   ],
   "source": [
    "json.loads(criteria_with_answer_list)"
   ]
  },
  {
   "cell_type": "code",
   "execution_count": 22,
   "metadata": {},
   "outputs": [
    {
     "data": {
      "text/plain": [
       "{'risk_level': 'MEDIUM RISK'}"
      ]
     },
     "execution_count": 22,
     "metadata": {},
     "output_type": "execute_result"
    }
   ],
   "source": [
    "risk_level"
   ]
  },
  {
   "cell_type": "code",
   "execution_count": null,
   "metadata": {},
   "outputs": [],
   "source": []
  }
 ],
 "metadata": {
  "kernelspec": {
   "display_name": "Python 3 (ipykernel)",
   "language": "python",
   "name": "python3"
  },
  "language_info": {
   "codemirror_mode": {
    "name": "ipython",
    "version": 3
   },
   "file_extension": ".py",
   "mimetype": "text/x-python",
   "name": "python",
   "nbconvert_exporter": "python",
   "pygments_lexer": "ipython3",
   "version": "3.11.3"
  }
 },
 "nbformat": 4,
 "nbformat_minor": 2
}
