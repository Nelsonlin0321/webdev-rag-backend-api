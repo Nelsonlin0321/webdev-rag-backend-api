{
 "cells": [
  {
   "cell_type": "code",
   "execution_count": 1,
   "metadata": {},
   "outputs": [],
   "source": [
    "import sys\n",
    "sys.path.insert(0, \"./../\")"
   ]
  },
  {
   "cell_type": "code",
   "execution_count": 2,
   "metadata": {},
   "outputs": [],
   "source": [
    "from app.risk_evaluator import RiskEvaluator"
   ]
  },
  {
   "cell_type": "code",
   "execution_count": 3,
   "metadata": {},
   "outputs": [],
   "source": [
    "from tqdm import _tqdm_pandas"
   ]
  },
  {
   "cell_type": "code",
   "execution_count": 4,
   "metadata": {},
   "outputs": [],
   "source": [
    "from openai import OpenAI"
   ]
  },
  {
   "cell_type": "code",
   "execution_count": 5,
   "metadata": {},
   "outputs": [],
   "source": [
    "from app.processor import PDFToSentenceEmbedding\n",
    "from app.mongodb_engine import MongoDB\n",
    "from app import utils"
   ]
  },
  {
   "cell_type": "code",
   "execution_count": 6,
   "metadata": {},
   "outputs": [
    {
     "ename": "NameError",
     "evalue": "name 'os' is not defined",
     "output_type": "error",
     "traceback": [
      "\u001b[0;31m---------------------------------------------------------------------------\u001b[0m",
      "\u001b[0;31mNameError\u001b[0m                                 Traceback (most recent call last)",
      "Cell \u001b[0;32mIn[6], line 3\u001b[0m\n\u001b[1;32m      1\u001b[0m embedding_generator \u001b[38;5;241m=\u001b[39m PDFToSentenceEmbedding()\n\u001b[1;32m      2\u001b[0m mongo_db_engine \u001b[38;5;241m=\u001b[39m MongoDB()\n\u001b[0;32m----> 3\u001b[0m client \u001b[38;5;241m=\u001b[39m OpenAI(api_key\u001b[38;5;241m=\u001b[39m\u001b[43mos\u001b[49m\u001b[38;5;241m.\u001b[39mgetenv(\u001b[38;5;124m\"\u001b[39m\u001b[38;5;124mOPENAI_API_KEY\u001b[39m\u001b[38;5;124m\"\u001b[39m))\n",
      "\u001b[0;31mNameError\u001b[0m: name 'os' is not defined"
     ]
    }
   ],
   "source": [
    "embedding_generator = PDFToSentenceEmbedding()\n",
    "mongo_db_engine = MongoDB()\n",
    "client = OpenAI(api_key=os.getenv(\"OPENAI_API_KEY\"))"
   ]
  },
  {
   "cell_type": "code",
   "execution_count": null,
   "metadata": {},
   "outputs": [],
   "source": [
    "file_name = \"SUNY RF - General Investment Policy and Guidelines.pdf\""
   ]
  },
  {
   "cell_type": "code",
   "execution_count": null,
   "metadata": {},
   "outputs": [],
   "source": [
    "def get_answer(context, question):\n",
    "    query_vector = embedding_generator.model.encode(\n",
    "        context).tolist()\n",
    "\n",
    "    retrieved_results = mongo_db_engine.hybrid_search(\n",
    "        query_vector=query_vector, query=context,\n",
    "        file_name=file_name, limit=5)\n",
    "\n",
    "    prompt = utils.generate_prompt(retrieved_results)\n",
    "\n",
    "    completion = client.chat.completions.create(\n",
    "        model='gpt-3.5-turbo-16k',\n",
    "        messages=[\n",
    "            {'role': 'system',\n",
    "                'content': prompt,\n",
    "             },\n",
    "            {\"role\": \"user\",\n",
    "                \"content\": question},\n",
    "            {\"role\": \"user\",\n",
    "                \"content\":\n",
    "                \"\"\"The answer should follow below json format: \n",
    "                {\"fullfil\":\"{YES OR NO}\",\n",
    "                \"page_number\":\"{page_number}\",\n",
    "                \"reason\":\"{reason}\"}}\"\"\"\n",
    "             }\n",
    "        ],\n",
    "        temperature=0,\n",
    "        stream=False\n",
    "    )\n",
    "\n",
    "    answer = completion.choices[0].message.content\n",
    "\n",
    "    answer_dict = json.loads(answer)\n",
    "\n",
    "    answer_dict['criteria'] = question\n",
    "\n",
    "    return answer_dict"
   ]
  },
  {
   "cell_type": "code",
   "execution_count": null,
   "metadata": {},
   "outputs": [],
   "source": [
    "def get_risk_level(criteria_fulfillment_list):\n",
    "    num_fulfil = 0\n",
    "    for fulfillment in criteria_fulfillment_list:\n",
    "        if fulfillment['answer'].upper() == 'YES':\n",
    "            num_fulfil += 1\n",
    "\n",
    "    if num_fulfil >= 4:\n",
    "        return \"HIGH RISK\"\n",
    "\n",
    "    if num_fulfil >= 3:\n",
    "        return \"MEDIUM RISK\"\n",
    "\n",
    "    return \"LOW RISK\""
   ]
  },
  {
   "cell_type": "code",
   "execution_count": null,
   "metadata": {},
   "outputs": [],
   "source": [
    "criteria_list = [\n",
    "    {\"context\": \"allocation of bonds\",\n",
    "     \"question\": \"Is the percentage of bonds larger than 20% ?\"\n",
    "     },\n",
    "    {\"context\": \"percentage of hedged equities\",\n",
    "     \"question\": \"Is the percentage of hedged equities larger than 30% ?\"\n",
    "     },\n",
    "    {\"context\": \"asset allocation compliance policy\",\n",
    "     \"question\": \"Is there any asset allocation compliance policy ?\"\n",
    "     },\n",
    "    {\"context\": \"allocation of asset with more than 10 year period\",\n",
    "     \"question\": \"allocation of asset with more than 10 year period is larger than 20% ?\"\n",
    "     },\n",
    "]"
   ]
  },
  {
   "cell_type": "code",
   "execution_count": null,
   "metadata": {},
   "outputs": [],
   "source": [
    "criteria_fulfillment_list = []"
   ]
  },
  {
   "cell_type": "code",
   "execution_count": null,
   "metadata": {},
   "outputs": [
    {
     "name": "stderr",
     "output_type": "stream",
     "text": [
      "100%|██████████| 4/4 [00:53<00:00, 13.40s/it]\n"
     ]
    }
   ],
   "source": [
    "for criteria in tqdm(criteria_list):\n",
    "    answer_dict = get_answer(**criteria)\n",
    "    criteria_fulfillment_list.append(answer_dict)"
   ]
  },
  {
   "cell_type": "code",
   "execution_count": null,
   "metadata": {},
   "outputs": [
    {
     "data": {
      "text/plain": [
       "[{'fulfill': 'YES',\n",
       "  'page_number': '7',\n",
       "  'reason': 'The percentage of bonds is larger than 20% according to the asset allocation policy on page 7.',\n",
       "  'criteria': 'Is the percentage of bonds larger than 20% ?'},\n",
       " {'fulfill': 'NO',\n",
       "  'page_number': '11',\n",
       "  'reason': 'The percentage of hedged equities is not larger than 30%. According to the Investment Policy and Guidelines on page 11, the long-term target range for hedged equities is 0-25%.',\n",
       "  'criteria': 'Is the percentage of hedged equities larger than 30% ?'},\n",
       " {'fulfill': 'YES',\n",
       "  'page_number': '6',\n",
       "  'reason': 'The investment guidelines and asset allocation section on page 6 mentions that if any asset class weighting is outside its respective permissible range by +/- 5 percent at the end of any calendar quarter, the investment consultant will advise the Committee at the next Committee meeting. The portfolio should be re-balanced to bring the portfolio into compliance with these guidelines as promptly and prudently as possible.',\n",
       "  'criteria': 'Is there any asset allocation compliance policy ?'},\n",
       " {'fulfill': 'YES',\n",
       "  'page_number': '7',\n",
       "  'reason': 'The Operational Pool Long Duration has an asset allocation of 60% in equities, which is larger than 20% and has a duration of 7-10 years or longer.',\n",
       "  'criteria': 'allocation of asset with more than 10 year period is larger than 20% ?'}]"
      ]
     },
     "execution_count": 17,
     "metadata": {},
     "output_type": "execute_result"
    }
   ],
   "source": [
    "criteria_fulfillment_list"
   ]
  },
  {
   "cell_type": "code",
   "execution_count": null,
   "metadata": {},
   "outputs": [],
   "source": [
    "risk_definition = \"\"\"\"\n",
    "if fulfill all criteria, return HIGH RISK\n",
    "if fulfill criteria more than 2 or equal to 3, return MEDIUM RISK\n",
    "if fulfill criteria less than 2 criteria return LOW RISK\n",
    "\"\"\""
   ]
  },
  {
   "cell_type": "code",
   "execution_count": null,
   "metadata": {},
   "outputs": [],
   "source": [
    "criteria_fulfillment_list_json = json.dumps(criteria_fulfillment_list)"
   ]
  },
  {
   "cell_type": "code",
   "execution_count": null,
   "metadata": {},
   "outputs": [
    {
     "data": {
      "text/plain": [
       "'[{\"fulfill\": \"YES\", \"page_number\": \"7\", \"reason\": \"The percentage of bonds is larger than 20% according to the asset allocation policy on page 7.\", \"criteria\": \"Is the percentage of bonds larger than 20% ?\"}, {\"fulfill\": \"NO\", \"page_number\": \"11\", \"reason\": \"The percentage of hedged equities is not larger than 30%. According to the Investment Policy and Guidelines on page 11, the long-term target range for hedged equities is 0-25%.\", \"criteria\": \"Is the percentage of hedged equities larger than 30% ?\"}, {\"fulfill\": \"YES\", \"page_number\": \"6\", \"reason\": \"The investment guidelines and asset allocation section on page 6 mentions that if any asset class weighting is outside its respective permissible range by +/- 5 percent at the end of any calendar quarter, the investment consultant will advise the Committee at the next Committee meeting. The portfolio should be re-balanced to bring the portfolio into compliance with these guidelines as promptly and prudently as possible.\", \"criteria\": \"Is there any asset allocation compliance policy ?\"}, {\"fulfill\": \"YES\", \"page_number\": \"7\", \"reason\": \"The Operational Pool Long Duration has an asset allocation of 60% in equities, which is larger than 20% and has a duration of 7-10 years or longer.\", \"criteria\": \"allocation of asset with more than 10 year period is larger than 20% ?\"}]'"
      ]
     },
     "execution_count": 20,
     "metadata": {},
     "output_type": "execute_result"
    }
   ],
   "source": [
    "criteria_fulfillment_list_json"
   ]
  },
  {
   "cell_type": "code",
   "execution_count": null,
   "metadata": {},
   "outputs": [],
   "source": [
    "completion = client.chat.completions.create(\n",
    "    model='gpt-3.5-turbo-16k',\n",
    "    messages=[\n",
    "        {\"role\": \"user\",\n",
    "            \"content\":\n",
    "            f\"\"\"\n",
    "RISK DEFINITION: \n",
    "{risk_definition}\n",
    "\n",
    "FULFILLED CRITERIA IN JSON Format:\n",
    "{criteria_fulfillment_list_json}\n",
    "\"\"\" + \"\"\"please return risk level by following this json format {\"risk_level\":\"{risk_level}\"}\"}\"\"\"},\n",
    "    ],\n",
    "    temperature=0,\n",
    "    stream=False\n",
    ")\n",
    "\n",
    "answer = completion.choices[0].message.content"
   ]
  },
  {
   "cell_type": "code",
   "execution_count": null,
   "metadata": {},
   "outputs": [
    {
     "data": {
      "text/plain": [
       "{'risk_level': 'MEDIUM RISK'}"
      ]
     },
     "execution_count": 32,
     "metadata": {},
     "output_type": "execute_result"
    }
   ],
   "source": [
    "json.loads(answer)"
   ]
  },
  {
   "cell_type": "code",
   "execution_count": null,
   "metadata": {},
   "outputs": [],
   "source": []
  }
 ],
 "metadata": {
  "kernelspec": {
   "display_name": "Python 3 (ipykernel)",
   "language": "python",
   "name": "python3"
  },
  "language_info": {
   "codemirror_mode": {
    "name": "ipython",
    "version": 3
   },
   "file_extension": ".py",
   "mimetype": "text/x-python",
   "name": "python",
   "nbconvert_exporter": "python",
   "pygments_lexer": "ipython3",
   "version": "3.11.3"
  }
 },
 "nbformat": 4,
 "nbformat_minor": 2
}
