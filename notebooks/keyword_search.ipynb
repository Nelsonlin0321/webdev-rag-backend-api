{
 "cells": [
  {
   "cell_type": "code",
   "execution_count": 1,
   "metadata": {},
   "outputs": [],
   "source": [
    "import os\n",
    "from pymongo.mongo_client import MongoClient\n",
    "from pymongo.server_api import ServerApi"
   ]
  },
  {
   "cell_type": "code",
   "execution_count": 2,
   "metadata": {},
   "outputs": [
    {
     "data": {
      "text/plain": [
       "True"
      ]
     },
     "execution_count": 2,
     "metadata": {},
     "output_type": "execute_result"
    }
   ],
   "source": [
    "import dotenv\n",
    "dotenv.load_dotenv()"
   ]
  },
  {
   "cell_type": "code",
   "execution_count": 3,
   "metadata": {},
   "outputs": [],
   "source": [
    "MONGODB_URL = os.getenv(\"MONGODB_URL\")"
   ]
  },
  {
   "cell_type": "code",
   "execution_count": 4,
   "metadata": {},
   "outputs": [],
   "source": [
    "# Create a new client and connect to the server\n",
    "mongo_client = MongoClient(MONGODB_URL, server_api=ServerApi('1'))"
   ]
  },
  {
   "cell_type": "code",
   "execution_count": 5,
   "metadata": {},
   "outputs": [],
   "source": [
    "context = \"The percentage of the asset allocation with a duration longer than 7 years is less than 20%\""
   ]
  },
  {
   "cell_type": "code",
   "execution_count": 6,
   "metadata": {},
   "outputs": [],
   "source": [
    "fileName = \"SUNY RF - General Investment Policy and Guidelines.pdf\""
   ]
  },
  {
   "cell_type": "code",
   "execution_count": 7,
   "metadata": {},
   "outputs": [],
   "source": [
    "search_query = [\n",
    "    {\n",
    "        '$search': {\n",
    "            'index': 'default',\n",
    "            'compound': {\n",
    "                'must': [\n",
    "                    {\n",
    "                        'text': {\n",
    "                            'query': context,\n",
    "                            'path': 'text'\n",
    "                        }\n",
    "                    }\n",
    "                ],\n",
    "                'filter': [\n",
    "                    {\n",
    "                        'text': {\n",
    "                            'query': fileName,\n",
    "                            'path': 'fileName'\n",
    "                        }\n",
    "                    }\n",
    "                ]\n",
    "            }\n",
    "        }\n",
    "    }, {\n",
    "        '$match': {\n",
    "            'fileName': fileName\n",
    "        }\n",
    "    }, {\n",
    "        '$addFields': {\n",
    "            'score': {\n",
    "                '$meta': 'searchScore'\n",
    "            }\n",
    "        }\n",
    "    }, {\n",
    "        '$project': {\n",
    "            'embedding': 0,\n",
    "            '_id': 0,\n",
    "        }\n",
    "    }, {\n",
    "        '$limit': 5\n",
    "    }\n",
    "]"
   ]
  },
  {
   "cell_type": "code",
   "execution_count": 8,
   "metadata": {},
   "outputs": [],
   "source": [
    "results = mongo_client[\"RAG\"]['DocumentEmbedding'].aggregate(search_query)"
   ]
  },
  {
   "cell_type": "code",
   "execution_count": 9,
   "metadata": {},
   "outputs": [],
   "source": [
    "results = list(results)"
   ]
  },
  {
   "cell_type": "code",
   "execution_count": 10,
   "metadata": {},
   "outputs": [],
   "source": [
    "keyword_search_results = results"
   ]
  },
  {
   "cell_type": "code",
   "execution_count": 11,
   "metadata": {},
   "outputs": [],
   "source": [
    "vector_search_results = [{'fileName': 'SUNY RF - General Investment Policy and Guidelines.pdf',\n",
    "                          'textIdx': 6,\n",
    "                          'pageLabel': '7',\n",
    "                          'text': 'Research  Foundation  for the State University of New York  \\nInvestment Policy and Guidelines  \\n \\nSeptember 21, 2023  \\n \\n7 \\n  \\n \\nD. Asset Allocation  \\nIn order to  have a reasonable probability of consistently achieving the RF’s long term return objectives, \\nthe Committee has adopted the asset allocation policies outlined below : \\n \\n \\nOPERATIONAL POOL MEDIUM DURATION  \\nAsset Class  Long Term Target %  Ranges  \\nCash  3% 0-10% \\n      \\nFixed Income  31.5%  15-45% \\nGovernment Bonds  12.5%    0-20%  \\nCredit  19% 5-30% \\n   \\nEquities  33% 20-40% \\nGlobal Equities  17% 10-30% \\nHedged Equities  16% 0-30% \\nPrivate Equity  0% 0% \\n      \\nAbsolute Return  15% 0-25% \\n      \\nReal Assets  17.5%  5-30% \\nInflation -Protected  12.5%  0-20% \\nCommodities  0% 0-5% \\nGlobal Real Estate  5% 2-15% \\n \\n \\n OPERATIONAL POOL  LONG DURATION  \\nAsset Class  Long Term Target %  Ranges  \\nCash  1% 0-10% \\n      \\nFixed Income  21% 5-30% \\nGovernment Bonds  8% 0-30% \\nCredit   4%  0-20%  \\nPrivate Debt  9% 0-20% \\n   \\nEquities  60% 40-80% \\nGlobal Equities  28% 20-50% \\nHedged Equities  15% 0-25% \\nPrivate Equity  17% 0-25% \\n      \\nAbsolute Return  5% 0-20% \\n      \\nReal Assets  13% 10-30% \\nInflation -Protected  3% 0-10% \\nCommodities  0% 0-10% ',\n",
    "                          'score': 0.8712109327316284},\n",
    "                         {'fileName': 'SUNY RF - General Investment Policy and Guidelines.pdf',\n",
    "                          'textIdx': 4,\n",
    "                          'pageLabel': '5',\n",
    "                          'text': 'Research  Foundation  for the State University of New York  \\nInvestment Policy and Guidelines  \\n \\nSeptember 21, 2023  \\n \\n5 \\n  \\n \\nOperational Pool s - Funds are invested in one of these pools when the Liquid /Short Term Pool contains \\nexcess cash .  \\n \\nThe objectives for the Operational Pool are as follows:  \\n \\n• Ensure adequate liquidity for operating  needs  \\n• Preserve capital in negative market environments  \\n• Provide annual support for the RF’s operating budget and preserve  the real purchasing power \\n(after inflation and fees) of the assets over time  \\n• Generate reasonable  risk-adjusted returns  that compare favorably with peer institutions  \\n \\nEach pool has a different risk, return, and liquidity profile.  Portfolio construction and manager selection \\nshould be aligned with the respective goals of each pool.  \\n \\n• Operational Pool Medium Duration:  70% of the portfolio is assumed to have a duration of 1 -6 \\nyears.  30% of the portfolio is assumed to have potential for withdrawal in less than a year.     Long \\nterm return target of 5.0% .  Aim to minimize the probability of a decline in excess of 5% in any \\nsingle year.  \\n• Operational Pool Long Duration:  80% of the portfolio is assumed to have a duration of 7 -10 years \\nor longer.   Long term return target of 7 %.   Aim to minimize the probability of a decline in excess  of \\n15% in any single year.  \\n \\nVoluntary Employee Beneficiary (VEBA) Trust  – A VEBA Trust has been established to separately \\ninvest funds for post-retirement health care benefits to eligible employees.  The VEBA Trust is a separate \\nlegal entity .  \\n \\nThese funds are designated to meet the cost of health insurance for current and future retirees.  \\n \\nThe investment strategy for the trust should allow the RF to meet ongoing obligations while minimizing \\ncontributions and controlling risks.   \\nOrdinarily, the asset allocation plan would be structured such that:  \\n \\n• Short term liabilities are funded by short term assets  \\n• Intermediate term liabilities are funded by intermediate term assets  \\n• Long term liabilities are funded by long term assets    \\nCurrently short and intermediate term liabilities will be paid from routine operational cash that is collected \\nas part of the fringe benefit rate charged against salaries. Accordingly assets within the Trust should be \\nallocated to fund long term liabilities. If the funding plan changes and funds are deposited to cover the \\ncurrent year benefit obligations, these funds will be invested in cash/short term assets and available for \\nmonthly withdrawals.   \\n \\n• 80% of the portfolio is assumed to have a duration of 7 -10 years or longer .  Long term return target \\nof 7%.   Aim to minimize the probability of a decline in excess of 15% in any single year.  ',\n",
    "                          'score': 0.8575598001480103},\n",
    "                         {'fileName': 'SUNY RF - General Investment Policy and Guidelines.pdf',\n",
    "                          'textIdx': 7,\n",
    "                          'pageLabel': '8',\n",
    "                          'text': 'Research  Foundation  for the State University of New York  \\nInvestment Policy and Guidelines  \\n \\nSeptember 21, 2023  \\n \\n8 \\n Global Real Estate  10% 5-20% \\n   \\n \\nVoluntary Employee Beneficiary Association (VEBA) Trust  \\nAsset Class  Long Term Target %  Ranges  \\nCash  1% 0-10% \\n      \\nFixed Income  21% 5-30% \\nGovernment Bonds  8% 0-30% \\nCredit  4% 0-20% \\nPrivate Debt  9% 0-20% \\n      \\nEquities  60% 40-80% \\nGlobal Equities  28% 20-50% \\nHedged Equities  15% 0-25% \\nPrivate Equity  17% 0-25% \\n      \\nAbsolute Return  5% 0-20% \\n      \\nReal Assets  13% 10-30% \\nInflation -Protected  3% 0-10% \\nCommodities  0% 0-10% \\nGlobal Real Estate  10% 5-20% \\n \\n  \\nE. Ineligible Investments  \\nUnless specifically approved by the Committee  or consistent with the Exception below , certain securities, \\nstrategies and investments are ineligible for direct investment:  \\n• Derivative instruments, except as otherwise permitted in the Derivatives Policy and for Currency \\nhedging overlays.  \\n• Privately -placed debt, except marketable securities issued under Rule 144A.  \\n• Initial investments in lettered, legend or other so -called restricted stock.  \\n• Private placements,  real estate, oil and gas and venture capital .   \\n• Investments in transactions that may generate unrelated business taxable income (“UBTI”)  are \\npermitted as long as it is expected to be low and UBTI at the portfolio level is well below 10% of \\ntotal revenue . \\n• Investments or transactions that would be non -exempt prohibited transactions under Section 406 of \\nERISA or Section 4975 of the Internal Revenue Code.  \\n• Securities of the investment manager, their parent  or subsidiary companies (excluding money \\nmarket funds) or any other security that could be considered a self -dealing transaction.  ',\n",
    "                          'score': 0.8482080698013306},\n",
    "                         {'fileName': 'SUNY RF - General Investment Policy and Guidelines.pdf',\n",
    "                          'textIdx': 16,\n",
    "                          'pageLabel': '17',\n",
    "                          'text': 'Research  Foundation  for the State University of New York  \\nInvestment Policy and Guidelines  \\n \\nSeptember 21, 2023  \\n \\n17 \\n objectives requires prudent risk -taking, and that risk is the prerequisite for generating excess investment \\nreturns.  \\n \\nThe Committee’s policy regarding investment risk, consistent with modern portfolio theory, is that risk \\ncannot be eliminated but should be managed. That is, the level of risk taken should be consistent with the \\nreturn objectives of the various investment p ools. The Committee is responsible for:  \\n \\n• understanding the risks in various investment strategies  \\n• measuring and monitoring risks  \\n• ensuring proper return relevant to risk  \\n \\n  \\nThe Committee establishes the framework for risk management through the investment policy, which \\nincludes such items as the strategic asset allocation and performance objectives. However, tolerance for \\nrisk may also be expressed in the form of various othe r metrics or types of risk. The Committee  is \\nresponsible for managing total risk and shall implement procedures and safeguards so that the combined \\nrisk exposures of all portfolios in the aggregate are kept within limits established .  Although the \\nmanageme nt of investment portfolios may be outsourced, investment oversight and risk management are \\nprimary fiduciary duties of the Committee .  \\n \\nPrincipal risks that impact the investment program  \\n \\nGeneral risks  \\n \\n• Market risk  is the risk that the value of an investment will decrease due to moves in market factors.  \\n• Liquidity risk is the risk that arises from the difficulty of selling an investment.  Some assets are highly \\nliquid and have low liquidity risk, while other assets are highly illiquid and have high liquidity  risk. \\n• Interest rate risk is the risk that changes in interest rates will adversely affect the fair value of the \\ninvestment.  \\n• Concentration of credit risk  is defined as an excess of investments in any one issuer or exposure to a \\nnumber of counterparties engaged in similar activities and having similar economic characteristics that \\nwould be similarly affected by changes in economic or other conditions.  \\n• Credit risk is the risk of loss due to a debtor’s non -payment of a fixed income instrument (either the \\nprincipal or interest (coupon) or both).  \\n• Custodial credit risk  is the risk that, in the event of a failure of the counterparty, the RF will not be able \\nto recover the value of its investment or collateral securities that are in the possession of an outside \\nparty.  Investment securities are exposed to custodial credit risk if the securities are uninsured, are not \\nregistered in the name of the RF and are held by either the counterparty or the counterparty’s trust \\ndepartment or agent but not in the RF’s name.  \\n• Foreign currency risk  is the risk that changes in exchange rates will adversely affect the fair value of an \\ninvestment or a deposit.  \\n \\nOperational Risk  \\n \\n• Management risk  is the overall structure established to provide the framework for an efficient and \\neffective investment process. This includes such items as board committee structure; investment policy ',\n",
    "                          'score': 0.8402507305145264},\n",
    "                         {'fileName': 'SUNY RF - General Investment Policy and Guidelines.pdf',\n",
    "                          'textIdx': 11,\n",
    "                          'pageLabel': '12',\n",
    "                          'text': 'Research  Foundation  for the State University of New York  \\nInvestment Policy and Guidelines  \\n \\nSeptember 21, 2023  \\n \\n12 \\n Creation of Market Exposures : Investment managers are permitted to use derivatives to replicate \\nthe risk/return profile of an asset or asset class provided that the guidelines for the investment \\nmanager allow for such exposures to be created with the underlying assets themselves.   \\n \\nManagement of Country and Asset Allocation Exposure:   Managers charged with tactically \\nchanging the exposure of their portfolio to different countries and/or asset classes are permitted to \\nuse derivative contracts for this purpose.  \\n \\nBy way of amplification, it is noted that the following two uses of derivatives are prohibited:  \\n \\nLeverage :  Derivatives shall not be used to magnify overall portfolio exposure to an asset, asset \\nclass, interest rate, or any other financial vehicle beyond that which would be allowed by a \\nportfolio’s investment guidelines if derivatives were not used.  \\n  \\nUnrelated Speculation :  Derivatives shall not be used to create exposures to securities, currencies, \\nindices, or any other financial vehicle unless such exposures would be allowed by a portfolio’s \\ninvestment guidelines if created with non -derivative securities.  \\n \\n6. Other Considerations  \\nThe Committee considers environment, social and governance (ESG) factors in making its \\ninvestment decisions. While the Committee’s primary objective is to manage capital prudently and \\nseek financial return for the benefit of the institution, th e Committee believes that evaluating ESG \\nconsiderations and risks is consistent with the goal of maximizing the long term risk  adjusted returns \\nof the portfolio. Since the Committee manages the portfolio predominantly through external \\ninvestment managers, it seeks to engage in a dialog with these managers about integrating ESG \\nconsiderations into their investment processes and  ownership philosophy with the assistance of its \\ninvestment advisor.  \\n \\nThe Committee recognizes that as an economic development and innovation engine, SUNY and its \\ncampuses may wish to use unrestricted funds on investments enabling SUNY research and \\ninnovation to transform the world’s knowledge economy and solving the world’s most pressing \\nproblems.  Thus, the Committee recognizes that in certain circumstances RF management should be \\nallowed to approve requests from campuses to reinvest income generated from intellectual property \\nlicenses in SUNY  Affiliated Startup Companies.  \\n \\nIII. Performance Standards and Evaluation  \\nInvestment performance , portfolio risk exposure and risk -adjusted returns will be evaluated and compared \\nwith peer institutions, the Allocation Index, and the Policy Index.  While it is anticipated that there will be \\nfluctuations in investment performance, the investments should , at a minimum, produce a long term rate of \\nreturn, net of all expenses, that approximates the Policy Index.  Returns for the RF and for individual \\nmanagers are expected to rank in the top third of comparable funds or managers, respe ctively, over a full \\nmarket cycle.  \\n \\n1 Allocation Index is calculated by taking the actual asset class weights, at quarter end, times the return of the \\nrespective passive benchmark.  It measures the effectiveness of the portfolios’ deviations from target weights.  \\n ',\n",
    "                          'score': 0.8390599489212036}]"
   ]
  },
  {
   "cell_type": "code",
   "execution_count": 12,
   "metadata": {},
   "outputs": [],
   "source": [
    "import pandas as pd"
   ]
  },
  {
   "cell_type": "code",
   "execution_count": 13,
   "metadata": {},
   "outputs": [],
   "source": [
    "df_keyword_search = pd.DataFrame(keyword_search_results)\n",
    "df_vector_search = pd.DataFrame(vector_search_results)"
   ]
  },
  {
   "cell_type": "code",
   "execution_count": 14,
   "metadata": {},
   "outputs": [],
   "source": [
    "both_hit_indices = set(df_vector_search[['textIdx']].merge(\n",
    "    df_keyword_search[['textIdx']])['textIdx'])"
   ]
  },
  {
   "cell_type": "code",
   "execution_count": 16,
   "metadata": {},
   "outputs": [],
   "source": [
    "limit = 5"
   ]
  },
  {
   "cell_type": "code",
   "execution_count": 17,
   "metadata": {},
   "outputs": [],
   "source": [
    "rest_size = limit - len(both_hit_indices)"
   ]
  },
  {
   "cell_type": "code",
   "execution_count": 18,
   "metadata": {},
   "outputs": [],
   "source": [
    "def normalized_score(df):\n",
    "    max_score = max(df['score'])\n",
    "    min_score = min(df['score'])\n",
    "    df['normalized_score'] = df['score'].apply(\n",
    "        lambda x: (x-min_score)/(max_score-min_score))\n",
    "    return df"
   ]
  },
  {
   "cell_type": "code",
   "execution_count": 19,
   "metadata": {},
   "outputs": [],
   "source": [
    "df_vector_search = normalized_score(df_vector_search)"
   ]
  },
  {
   "cell_type": "code",
   "execution_count": 20,
   "metadata": {},
   "outputs": [
    {
     "data": {
      "text/html": [
       "<div>\n",
       "<style scoped>\n",
       "    .dataframe tbody tr th:only-of-type {\n",
       "        vertical-align: middle;\n",
       "    }\n",
       "\n",
       "    .dataframe tbody tr th {\n",
       "        vertical-align: top;\n",
       "    }\n",
       "\n",
       "    .dataframe thead th {\n",
       "        text-align: right;\n",
       "    }\n",
       "</style>\n",
       "<table border=\"1\" class=\"dataframe\">\n",
       "  <thead>\n",
       "    <tr style=\"text-align: right;\">\n",
       "      <th></th>\n",
       "      <th>fileName</th>\n",
       "      <th>textIdx</th>\n",
       "      <th>pageLabel</th>\n",
       "      <th>text</th>\n",
       "      <th>score</th>\n",
       "      <th>normalized_score</th>\n",
       "    </tr>\n",
       "  </thead>\n",
       "  <tbody>\n",
       "    <tr>\n",
       "      <th>0</th>\n",
       "      <td>SUNY RF - General Investment Policy and Guidel...</td>\n",
       "      <td>6</td>\n",
       "      <td>7</td>\n",
       "      <td>Research  Foundation  for the State University...</td>\n",
       "      <td>0.871211</td>\n",
       "      <td>1.000000</td>\n",
       "    </tr>\n",
       "    <tr>\n",
       "      <th>1</th>\n",
       "      <td>SUNY RF - General Investment Policy and Guidel...</td>\n",
       "      <td>4</td>\n",
       "      <td>5</td>\n",
       "      <td>Research  Foundation  for the State University...</td>\n",
       "      <td>0.857560</td>\n",
       "      <td>0.575405</td>\n",
       "    </tr>\n",
       "    <tr>\n",
       "      <th>2</th>\n",
       "      <td>SUNY RF - General Investment Policy and Guidel...</td>\n",
       "      <td>7</td>\n",
       "      <td>8</td>\n",
       "      <td>Research  Foundation  for the State University...</td>\n",
       "      <td>0.848208</td>\n",
       "      <td>0.284536</td>\n",
       "    </tr>\n",
       "    <tr>\n",
       "      <th>3</th>\n",
       "      <td>SUNY RF - General Investment Policy and Guidel...</td>\n",
       "      <td>16</td>\n",
       "      <td>17</td>\n",
       "      <td>Research  Foundation  for the State University...</td>\n",
       "      <td>0.840251</td>\n",
       "      <td>0.037037</td>\n",
       "    </tr>\n",
       "    <tr>\n",
       "      <th>4</th>\n",
       "      <td>SUNY RF - General Investment Policy and Guidel...</td>\n",
       "      <td>11</td>\n",
       "      <td>12</td>\n",
       "      <td>Research  Foundation  for the State University...</td>\n",
       "      <td>0.839060</td>\n",
       "      <td>0.000000</td>\n",
       "    </tr>\n",
       "  </tbody>\n",
       "</table>\n",
       "</div>"
      ],
      "text/plain": [
       "                                            fileName  textIdx pageLabel  \\\n",
       "0  SUNY RF - General Investment Policy and Guidel...        6         7   \n",
       "1  SUNY RF - General Investment Policy and Guidel...        4         5   \n",
       "2  SUNY RF - General Investment Policy and Guidel...        7         8   \n",
       "3  SUNY RF - General Investment Policy and Guidel...       16        17   \n",
       "4  SUNY RF - General Investment Policy and Guidel...       11        12   \n",
       "\n",
       "                                                text     score  \\\n",
       "0  Research  Foundation  for the State University...  0.871211   \n",
       "1  Research  Foundation  for the State University...  0.857560   \n",
       "2  Research  Foundation  for the State University...  0.848208   \n",
       "3  Research  Foundation  for the State University...  0.840251   \n",
       "4  Research  Foundation  for the State University...  0.839060   \n",
       "\n",
       "   normalized_score  \n",
       "0          1.000000  \n",
       "1          0.575405  \n",
       "2          0.284536  \n",
       "3          0.037037  \n",
       "4          0.000000  "
      ]
     },
     "execution_count": 20,
     "metadata": {},
     "output_type": "execute_result"
    }
   ],
   "source": [
    "df_vector_search.head()"
   ]
  },
  {
   "cell_type": "code",
   "execution_count": 21,
   "metadata": {},
   "outputs": [],
   "source": [
    "df_keyword_search = normalized_score(df_keyword_search)"
   ]
  },
  {
   "cell_type": "code",
   "execution_count": 22,
   "metadata": {},
   "outputs": [
    {
     "data": {
      "text/html": [
       "<div>\n",
       "<style scoped>\n",
       "    .dataframe tbody tr th:only-of-type {\n",
       "        vertical-align: middle;\n",
       "    }\n",
       "\n",
       "    .dataframe tbody tr th {\n",
       "        vertical-align: top;\n",
       "    }\n",
       "\n",
       "    .dataframe thead th {\n",
       "        text-align: right;\n",
       "    }\n",
       "</style>\n",
       "<table border=\"1\" class=\"dataframe\">\n",
       "  <thead>\n",
       "    <tr style=\"text-align: right;\">\n",
       "      <th></th>\n",
       "      <th>fileName</th>\n",
       "      <th>textIdx</th>\n",
       "      <th>pageLabel</th>\n",
       "      <th>text</th>\n",
       "      <th>score</th>\n",
       "      <th>normalized_score</th>\n",
       "    </tr>\n",
       "  </thead>\n",
       "  <tbody>\n",
       "    <tr>\n",
       "      <th>0</th>\n",
       "      <td>SUNY RF - General Investment Policy and Guidel...</td>\n",
       "      <td>4</td>\n",
       "      <td>5</td>\n",
       "      <td>Research  Foundation  for the State University...</td>\n",
       "      <td>13.766430</td>\n",
       "      <td>1.000000</td>\n",
       "    </tr>\n",
       "    <tr>\n",
       "      <th>1</th>\n",
       "      <td>SUNY RF - General Investment Policy and Guidel...</td>\n",
       "      <td>6</td>\n",
       "      <td>7</td>\n",
       "      <td>Research  Foundation  for the State University...</td>\n",
       "      <td>10.590981</td>\n",
       "      <td>0.589975</td>\n",
       "    </tr>\n",
       "    <tr>\n",
       "      <th>2</th>\n",
       "      <td>SUNY RF - General Investment Policy and Guidel...</td>\n",
       "      <td>12</td>\n",
       "      <td>13</td>\n",
       "      <td>Research  Foundation  for the State University...</td>\n",
       "      <td>7.713851</td>\n",
       "      <td>0.218471</td>\n",
       "    </tr>\n",
       "    <tr>\n",
       "      <th>3</th>\n",
       "      <td>SUNY RF - General Investment Policy and Guidel...</td>\n",
       "      <td>8</td>\n",
       "      <td>9</td>\n",
       "      <td>Research  Foundation  for the State University...</td>\n",
       "      <td>6.165762</td>\n",
       "      <td>0.018576</td>\n",
       "    </tr>\n",
       "    <tr>\n",
       "      <th>4</th>\n",
       "      <td>SUNY RF - General Investment Policy and Guidel...</td>\n",
       "      <td>1</td>\n",
       "      <td>2</td>\n",
       "      <td>\\n -i- Table of Contents  \\n \\nIntroduction  ...</td>\n",
       "      <td>6.021898</td>\n",
       "      <td>0.000000</td>\n",
       "    </tr>\n",
       "  </tbody>\n",
       "</table>\n",
       "</div>"
      ],
      "text/plain": [
       "                                            fileName  textIdx pageLabel  \\\n",
       "0  SUNY RF - General Investment Policy and Guidel...        4         5   \n",
       "1  SUNY RF - General Investment Policy and Guidel...        6         7   \n",
       "2  SUNY RF - General Investment Policy and Guidel...       12        13   \n",
       "3  SUNY RF - General Investment Policy and Guidel...        8         9   \n",
       "4  SUNY RF - General Investment Policy and Guidel...        1         2   \n",
       "\n",
       "                                                text      score  \\\n",
       "0  Research  Foundation  for the State University...  13.766430   \n",
       "1  Research  Foundation  for the State University...  10.590981   \n",
       "2  Research  Foundation  for the State University...   7.713851   \n",
       "3  Research  Foundation  for the State University...   6.165762   \n",
       "4   \\n -i- Table of Contents  \\n \\nIntroduction  ...   6.021898   \n",
       "\n",
       "   normalized_score  \n",
       "0          1.000000  \n",
       "1          0.589975  \n",
       "2          0.218471  \n",
       "3          0.018576  \n",
       "4          0.000000  "
      ]
     },
     "execution_count": 22,
     "metadata": {},
     "output_type": "execute_result"
    }
   ],
   "source": [
    "df_keyword_search.head()"
   ]
  },
  {
   "cell_type": "code",
   "execution_count": 26,
   "metadata": {},
   "outputs": [],
   "source": [
    "df_hybrid_search = pd.concat([df_keyword_search, df_vector_search])"
   ]
  },
  {
   "cell_type": "code",
   "execution_count": 29,
   "metadata": {},
   "outputs": [],
   "source": [
    "df_hybrid_search_1 = df_keyword_search[df_keyword_search['textIdx'].isin(\n",
    "    both_hit_indices)]"
   ]
  },
  {
   "cell_type": "code",
   "execution_count": 30,
   "metadata": {},
   "outputs": [
    {
     "data": {
      "text/html": [
       "<div>\n",
       "<style scoped>\n",
       "    .dataframe tbody tr th:only-of-type {\n",
       "        vertical-align: middle;\n",
       "    }\n",
       "\n",
       "    .dataframe tbody tr th {\n",
       "        vertical-align: top;\n",
       "    }\n",
       "\n",
       "    .dataframe thead th {\n",
       "        text-align: right;\n",
       "    }\n",
       "</style>\n",
       "<table border=\"1\" class=\"dataframe\">\n",
       "  <thead>\n",
       "    <tr style=\"text-align: right;\">\n",
       "      <th></th>\n",
       "      <th>fileName</th>\n",
       "      <th>textIdx</th>\n",
       "      <th>pageLabel</th>\n",
       "      <th>text</th>\n",
       "      <th>score</th>\n",
       "      <th>normalized_score</th>\n",
       "    </tr>\n",
       "  </thead>\n",
       "  <tbody>\n",
       "    <tr>\n",
       "      <th>0</th>\n",
       "      <td>SUNY RF - General Investment Policy and Guidel...</td>\n",
       "      <td>4</td>\n",
       "      <td>5</td>\n",
       "      <td>Research  Foundation  for the State University...</td>\n",
       "      <td>13.766430</td>\n",
       "      <td>1.000000</td>\n",
       "    </tr>\n",
       "    <tr>\n",
       "      <th>1</th>\n",
       "      <td>SUNY RF - General Investment Policy and Guidel...</td>\n",
       "      <td>6</td>\n",
       "      <td>7</td>\n",
       "      <td>Research  Foundation  for the State University...</td>\n",
       "      <td>10.590981</td>\n",
       "      <td>0.589975</td>\n",
       "    </tr>\n",
       "  </tbody>\n",
       "</table>\n",
       "</div>"
      ],
      "text/plain": [
       "                                            fileName  textIdx pageLabel  \\\n",
       "0  SUNY RF - General Investment Policy and Guidel...        4         5   \n",
       "1  SUNY RF - General Investment Policy and Guidel...        6         7   \n",
       "\n",
       "                                                text      score  \\\n",
       "0  Research  Foundation  for the State University...  13.766430   \n",
       "1  Research  Foundation  for the State University...  10.590981   \n",
       "\n",
       "   normalized_score  \n",
       "0          1.000000  \n",
       "1          0.589975  "
      ]
     },
     "execution_count": 30,
     "metadata": {},
     "output_type": "execute_result"
    }
   ],
   "source": [
    "df_hybrid_search_1"
   ]
  },
  {
   "cell_type": "code",
   "execution_count": 31,
   "metadata": {},
   "outputs": [],
   "source": [
    "df_hybrid_search_2 = df_hybrid_search[~df_hybrid_search['textIdx'].isin(\n",
    "    both_hit_indices)]"
   ]
  },
  {
   "cell_type": "code",
   "execution_count": 32,
   "metadata": {},
   "outputs": [],
   "source": [
    "df_hybrid_search_2 = df_hybrid_search_2.sort_values(\n",
    "    by='normalized_score', ascending=False).head(rest_size)"
   ]
  },
  {
   "cell_type": "code",
   "execution_count": 33,
   "metadata": {},
   "outputs": [
    {
     "data": {
      "text/html": [
       "<div>\n",
       "<style scoped>\n",
       "    .dataframe tbody tr th:only-of-type {\n",
       "        vertical-align: middle;\n",
       "    }\n",
       "\n",
       "    .dataframe tbody tr th {\n",
       "        vertical-align: top;\n",
       "    }\n",
       "\n",
       "    .dataframe thead th {\n",
       "        text-align: right;\n",
       "    }\n",
       "</style>\n",
       "<table border=\"1\" class=\"dataframe\">\n",
       "  <thead>\n",
       "    <tr style=\"text-align: right;\">\n",
       "      <th></th>\n",
       "      <th>fileName</th>\n",
       "      <th>textIdx</th>\n",
       "      <th>pageLabel</th>\n",
       "      <th>text</th>\n",
       "      <th>score</th>\n",
       "      <th>normalized_score</th>\n",
       "    </tr>\n",
       "  </thead>\n",
       "  <tbody>\n",
       "    <tr>\n",
       "      <th>2</th>\n",
       "      <td>SUNY RF - General Investment Policy and Guidel...</td>\n",
       "      <td>7</td>\n",
       "      <td>8</td>\n",
       "      <td>Research  Foundation  for the State University...</td>\n",
       "      <td>0.848208</td>\n",
       "      <td>0.284536</td>\n",
       "    </tr>\n",
       "    <tr>\n",
       "      <th>2</th>\n",
       "      <td>SUNY RF - General Investment Policy and Guidel...</td>\n",
       "      <td>12</td>\n",
       "      <td>13</td>\n",
       "      <td>Research  Foundation  for the State University...</td>\n",
       "      <td>7.713851</td>\n",
       "      <td>0.218471</td>\n",
       "    </tr>\n",
       "    <tr>\n",
       "      <th>3</th>\n",
       "      <td>SUNY RF - General Investment Policy and Guidel...</td>\n",
       "      <td>16</td>\n",
       "      <td>17</td>\n",
       "      <td>Research  Foundation  for the State University...</td>\n",
       "      <td>0.840251</td>\n",
       "      <td>0.037037</td>\n",
       "    </tr>\n",
       "  </tbody>\n",
       "</table>\n",
       "</div>"
      ],
      "text/plain": [
       "                                            fileName  textIdx pageLabel  \\\n",
       "2  SUNY RF - General Investment Policy and Guidel...        7         8   \n",
       "2  SUNY RF - General Investment Policy and Guidel...       12        13   \n",
       "3  SUNY RF - General Investment Policy and Guidel...       16        17   \n",
       "\n",
       "                                                text     score  \\\n",
       "2  Research  Foundation  for the State University...  0.848208   \n",
       "2  Research  Foundation  for the State University...  7.713851   \n",
       "3  Research  Foundation  for the State University...  0.840251   \n",
       "\n",
       "   normalized_score  \n",
       "2          0.284536  \n",
       "2          0.218471  \n",
       "3          0.037037  "
      ]
     },
     "execution_count": 33,
     "metadata": {},
     "output_type": "execute_result"
    }
   ],
   "source": [
    "df_hybrid_search_2"
   ]
  },
  {
   "cell_type": "code",
   "execution_count": 34,
   "metadata": {},
   "outputs": [
    {
     "data": {
      "text/html": [
       "<div>\n",
       "<style scoped>\n",
       "    .dataframe tbody tr th:only-of-type {\n",
       "        vertical-align: middle;\n",
       "    }\n",
       "\n",
       "    .dataframe tbody tr th {\n",
       "        vertical-align: top;\n",
       "    }\n",
       "\n",
       "    .dataframe thead th {\n",
       "        text-align: right;\n",
       "    }\n",
       "</style>\n",
       "<table border=\"1\" class=\"dataframe\">\n",
       "  <thead>\n",
       "    <tr style=\"text-align: right;\">\n",
       "      <th></th>\n",
       "      <th>fileName</th>\n",
       "      <th>textIdx</th>\n",
       "      <th>pageLabel</th>\n",
       "      <th>text</th>\n",
       "      <th>score</th>\n",
       "      <th>normalized_score</th>\n",
       "    </tr>\n",
       "  </thead>\n",
       "  <tbody>\n",
       "    <tr>\n",
       "      <th>0</th>\n",
       "      <td>SUNY RF - General Investment Policy and Guidel...</td>\n",
       "      <td>4</td>\n",
       "      <td>5</td>\n",
       "      <td>Research  Foundation  for the State University...</td>\n",
       "      <td>13.766430</td>\n",
       "      <td>1.000000</td>\n",
       "    </tr>\n",
       "    <tr>\n",
       "      <th>1</th>\n",
       "      <td>SUNY RF - General Investment Policy and Guidel...</td>\n",
       "      <td>6</td>\n",
       "      <td>7</td>\n",
       "      <td>Research  Foundation  for the State University...</td>\n",
       "      <td>10.590981</td>\n",
       "      <td>0.589975</td>\n",
       "    </tr>\n",
       "  </tbody>\n",
       "</table>\n",
       "</div>"
      ],
      "text/plain": [
       "                                            fileName  textIdx pageLabel  \\\n",
       "0  SUNY RF - General Investment Policy and Guidel...        4         5   \n",
       "1  SUNY RF - General Investment Policy and Guidel...        6         7   \n",
       "\n",
       "                                                text      score  \\\n",
       "0  Research  Foundation  for the State University...  13.766430   \n",
       "1  Research  Foundation  for the State University...  10.590981   \n",
       "\n",
       "   normalized_score  \n",
       "0          1.000000  \n",
       "1          0.589975  "
      ]
     },
     "execution_count": 34,
     "metadata": {},
     "output_type": "execute_result"
    }
   ],
   "source": [
    "df_hybrid_search_1"
   ]
  },
  {
   "cell_type": "code",
   "execution_count": 35,
   "metadata": {},
   "outputs": [],
   "source": [
    "df_hybrid_search = pd.concat([df_hybrid_search_1, df_hybrid_search_2])"
   ]
  },
  {
   "cell_type": "code",
   "execution_count": 36,
   "metadata": {},
   "outputs": [
    {
     "data": {
      "text/html": [
       "<div>\n",
       "<style scoped>\n",
       "    .dataframe tbody tr th:only-of-type {\n",
       "        vertical-align: middle;\n",
       "    }\n",
       "\n",
       "    .dataframe tbody tr th {\n",
       "        vertical-align: top;\n",
       "    }\n",
       "\n",
       "    .dataframe thead th {\n",
       "        text-align: right;\n",
       "    }\n",
       "</style>\n",
       "<table border=\"1\" class=\"dataframe\">\n",
       "  <thead>\n",
       "    <tr style=\"text-align: right;\">\n",
       "      <th></th>\n",
       "      <th>fileName</th>\n",
       "      <th>textIdx</th>\n",
       "      <th>pageLabel</th>\n",
       "      <th>text</th>\n",
       "      <th>score</th>\n",
       "      <th>normalized_score</th>\n",
       "    </tr>\n",
       "  </thead>\n",
       "  <tbody>\n",
       "    <tr>\n",
       "      <th>0</th>\n",
       "      <td>SUNY RF - General Investment Policy and Guidel...</td>\n",
       "      <td>4</td>\n",
       "      <td>5</td>\n",
       "      <td>Research  Foundation  for the State University...</td>\n",
       "      <td>13.766430</td>\n",
       "      <td>1.000000</td>\n",
       "    </tr>\n",
       "    <tr>\n",
       "      <th>1</th>\n",
       "      <td>SUNY RF - General Investment Policy and Guidel...</td>\n",
       "      <td>6</td>\n",
       "      <td>7</td>\n",
       "      <td>Research  Foundation  for the State University...</td>\n",
       "      <td>10.590981</td>\n",
       "      <td>0.589975</td>\n",
       "    </tr>\n",
       "    <tr>\n",
       "      <th>2</th>\n",
       "      <td>SUNY RF - General Investment Policy and Guidel...</td>\n",
       "      <td>7</td>\n",
       "      <td>8</td>\n",
       "      <td>Research  Foundation  for the State University...</td>\n",
       "      <td>0.848208</td>\n",
       "      <td>0.284536</td>\n",
       "    </tr>\n",
       "    <tr>\n",
       "      <th>2</th>\n",
       "      <td>SUNY RF - General Investment Policy and Guidel...</td>\n",
       "      <td>12</td>\n",
       "      <td>13</td>\n",
       "      <td>Research  Foundation  for the State University...</td>\n",
       "      <td>7.713851</td>\n",
       "      <td>0.218471</td>\n",
       "    </tr>\n",
       "    <tr>\n",
       "      <th>3</th>\n",
       "      <td>SUNY RF - General Investment Policy and Guidel...</td>\n",
       "      <td>16</td>\n",
       "      <td>17</td>\n",
       "      <td>Research  Foundation  for the State University...</td>\n",
       "      <td>0.840251</td>\n",
       "      <td>0.037037</td>\n",
       "    </tr>\n",
       "  </tbody>\n",
       "</table>\n",
       "</div>"
      ],
      "text/plain": [
       "                                            fileName  textIdx pageLabel  \\\n",
       "0  SUNY RF - General Investment Policy and Guidel...        4         5   \n",
       "1  SUNY RF - General Investment Policy and Guidel...        6         7   \n",
       "2  SUNY RF - General Investment Policy and Guidel...        7         8   \n",
       "2  SUNY RF - General Investment Policy and Guidel...       12        13   \n",
       "3  SUNY RF - General Investment Policy and Guidel...       16        17   \n",
       "\n",
       "                                                text      score  \\\n",
       "0  Research  Foundation  for the State University...  13.766430   \n",
       "1  Research  Foundation  for the State University...  10.590981   \n",
       "2  Research  Foundation  for the State University...   0.848208   \n",
       "2  Research  Foundation  for the State University...   7.713851   \n",
       "3  Research  Foundation  for the State University...   0.840251   \n",
       "\n",
       "   normalized_score  \n",
       "0          1.000000  \n",
       "1          0.589975  \n",
       "2          0.284536  \n",
       "2          0.218471  \n",
       "3          0.037037  "
      ]
     },
     "execution_count": 36,
     "metadata": {},
     "output_type": "execute_result"
    }
   ],
   "source": [
    "df_hybrid_search.head()"
   ]
  },
  {
   "cell_type": "code",
   "execution_count": 39,
   "metadata": {},
   "outputs": [
    {
     "data": {
      "text/plain": [
       "[{'fileName': 'SUNY RF - General Investment Policy and Guidelines.pdf',\n",
       "  'textIdx': 4,\n",
       "  'pageLabel': '5',\n",
       "  'text': 'Research  Foundation  for the State University of New York  \\nInvestment Policy and Guidelines  \\n \\nSeptember 21, 2023  \\n \\n5 \\n  \\n \\nOperational Pool s - Funds are invested in one of these pools when the Liquid /Short Term Pool contains \\nexcess cash .  \\n \\nThe objectives for the Operational Pool are as follows:  \\n \\n• Ensure adequate liquidity for operating  needs  \\n• Preserve capital in negative market environments  \\n• Provide annual support for the RF’s operating budget and preserve  the real purchasing power \\n(after inflation and fees) of the assets over time  \\n• Generate reasonable  risk-adjusted returns  that compare favorably with peer institutions  \\n \\nEach pool has a different risk, return, and liquidity profile.  Portfolio construction and manager selection \\nshould be aligned with the respective goals of each pool.  \\n \\n• Operational Pool Medium Duration:  70% of the portfolio is assumed to have a duration of 1 -6 \\nyears.  30% of the portfolio is assumed to have potential for withdrawal in less than a year.     Long \\nterm return target of 5.0% .  Aim to minimize the probability of a decline in excess of 5% in any \\nsingle year.  \\n• Operational Pool Long Duration:  80% of the portfolio is assumed to have a duration of 7 -10 years \\nor longer.   Long term return target of 7 %.   Aim to minimize the probability of a decline in excess  of \\n15% in any single year.  \\n \\nVoluntary Employee Beneficiary (VEBA) Trust  – A VEBA Trust has been established to separately \\ninvest funds for post-retirement health care benefits to eligible employees.  The VEBA Trust is a separate \\nlegal entity .  \\n \\nThese funds are designated to meet the cost of health insurance for current and future retirees.  \\n \\nThe investment strategy for the trust should allow the RF to meet ongoing obligations while minimizing \\ncontributions and controlling risks.   \\nOrdinarily, the asset allocation plan would be structured such that:  \\n \\n• Short term liabilities are funded by short term assets  \\n• Intermediate term liabilities are funded by intermediate term assets  \\n• Long term liabilities are funded by long term assets    \\nCurrently short and intermediate term liabilities will be paid from routine operational cash that is collected \\nas part of the fringe benefit rate charged against salaries. Accordingly assets within the Trust should be \\nallocated to fund long term liabilities. If the funding plan changes and funds are deposited to cover the \\ncurrent year benefit obligations, these funds will be invested in cash/short term assets and available for \\nmonthly withdrawals.   \\n \\n• 80% of the portfolio is assumed to have a duration of 7 -10 years or longer .  Long term return target \\nof 7%.   Aim to minimize the probability of a decline in excess of 15% in any single year.  ',\n",
       "  'score': 13.766429901123047,\n",
       "  'normalized_score': 1.0},\n",
       " {'fileName': 'SUNY RF - General Investment Policy and Guidelines.pdf',\n",
       "  'textIdx': 6,\n",
       "  'pageLabel': '7',\n",
       "  'text': 'Research  Foundation  for the State University of New York  \\nInvestment Policy and Guidelines  \\n \\nSeptember 21, 2023  \\n \\n7 \\n  \\n \\nD. Asset Allocation  \\nIn order to  have a reasonable probability of consistently achieving the RF’s long term return objectives, \\nthe Committee has adopted the asset allocation policies outlined below : \\n \\n \\nOPERATIONAL POOL MEDIUM DURATION  \\nAsset Class  Long Term Target %  Ranges  \\nCash  3% 0-10% \\n      \\nFixed Income  31.5%  15-45% \\nGovernment Bonds  12.5%    0-20%  \\nCredit  19% 5-30% \\n   \\nEquities  33% 20-40% \\nGlobal Equities  17% 10-30% \\nHedged Equities  16% 0-30% \\nPrivate Equity  0% 0% \\n      \\nAbsolute Return  15% 0-25% \\n      \\nReal Assets  17.5%  5-30% \\nInflation -Protected  12.5%  0-20% \\nCommodities  0% 0-5% \\nGlobal Real Estate  5% 2-15% \\n \\n \\n OPERATIONAL POOL  LONG DURATION  \\nAsset Class  Long Term Target %  Ranges  \\nCash  1% 0-10% \\n      \\nFixed Income  21% 5-30% \\nGovernment Bonds  8% 0-30% \\nCredit   4%  0-20%  \\nPrivate Debt  9% 0-20% \\n   \\nEquities  60% 40-80% \\nGlobal Equities  28% 20-50% \\nHedged Equities  15% 0-25% \\nPrivate Equity  17% 0-25% \\n      \\nAbsolute Return  5% 0-20% \\n      \\nReal Assets  13% 10-30% \\nInflation -Protected  3% 0-10% \\nCommodities  0% 0-10% ',\n",
       "  'score': 10.590980529785156,\n",
       "  'normalized_score': 0.5899752854731041},\n",
       " {'fileName': 'SUNY RF - General Investment Policy and Guidelines.pdf',\n",
       "  'textIdx': 7,\n",
       "  'pageLabel': '8',\n",
       "  'text': 'Research  Foundation  for the State University of New York  \\nInvestment Policy and Guidelines  \\n \\nSeptember 21, 2023  \\n \\n8 \\n Global Real Estate  10% 5-20% \\n   \\n \\nVoluntary Employee Beneficiary Association (VEBA) Trust  \\nAsset Class  Long Term Target %  Ranges  \\nCash  1% 0-10% \\n      \\nFixed Income  21% 5-30% \\nGovernment Bonds  8% 0-30% \\nCredit  4% 0-20% \\nPrivate Debt  9% 0-20% \\n      \\nEquities  60% 40-80% \\nGlobal Equities  28% 20-50% \\nHedged Equities  15% 0-25% \\nPrivate Equity  17% 0-25% \\n      \\nAbsolute Return  5% 0-20% \\n      \\nReal Assets  13% 10-30% \\nInflation -Protected  3% 0-10% \\nCommodities  0% 0-10% \\nGlobal Real Estate  10% 5-20% \\n \\n  \\nE. Ineligible Investments  \\nUnless specifically approved by the Committee  or consistent with the Exception below , certain securities, \\nstrategies and investments are ineligible for direct investment:  \\n• Derivative instruments, except as otherwise permitted in the Derivatives Policy and for Currency \\nhedging overlays.  \\n• Privately -placed debt, except marketable securities issued under Rule 144A.  \\n• Initial investments in lettered, legend or other so -called restricted stock.  \\n• Private placements,  real estate, oil and gas and venture capital .   \\n• Investments in transactions that may generate unrelated business taxable income (“UBTI”)  are \\npermitted as long as it is expected to be low and UBTI at the portfolio level is well below 10% of \\ntotal revenue . \\n• Investments or transactions that would be non -exempt prohibited transactions under Section 406 of \\nERISA or Section 4975 of the Internal Revenue Code.  \\n• Securities of the investment manager, their parent  or subsidiary companies (excluding money \\nmarket funds) or any other security that could be considered a self -dealing transaction.  ',\n",
       "  'score': 0.8482080698013306,\n",
       "  'normalized_score': 0.28453626595279236},\n",
       " {'fileName': 'SUNY RF - General Investment Policy and Guidelines.pdf',\n",
       "  'textIdx': 12,\n",
       "  'pageLabel': '13',\n",
       "  'text': 'Research  Foundation  for the State University of New York  \\nInvestment Policy and Guidelines  \\n \\nSeptember 21, 2023  \\n \\n13 \\n 2 Policy Index  is calculated by taking the target asset class weights times the return of the respective passive benchmark \\n(calculated quarterly).  It measures the effectiveness of the RF’s asset allocation structure.  \\n \\nInvestment managers will be reviewed regularly by the investment consultant regarding performance, \\npersonnel, strategy, research capabilities, organizational and business matters and other qualitative factors \\nthat may impact their ability to achieve the de sired investment results.  \\n \\nThe investment performance of investment managers shall be measured (e.g., total return and risk \\nadjusted return) against the investment performance of other managers with similar investment styles (e.g., \\nlarge cap growth equity manager against other large cap growth man agers).  Furthermore, investment \\nperformance will also be measured against an appropriate index benchmark (e.g., small cap core equity \\nmanagers will be measured against the Russell 2000 Index).  \\n \\nPerformance reports shall be compiled quarterly and provided to the Committee for review.  Consideration \\nshall be given to the extent to which the investment results are consistent with the investment objectives, \\ngoals, risks and guidelines as set forth i n this Policy.  The Committee may terminate an investment \\nmanager for any reason including the following:  \\n \\n• Investment performance that is significantly less than anticipated given the discipline employed and the \\nrisk parameters established or unacceptable justification of poor results.  \\n• Investing in asset classes other than the asset classes for which the manager was engaged.  \\n• Failure to adhere to any aspect of this statement of investment policy, including communication and \\nreporting requirements.  \\n• Significant qualitative changes to the investment management organization.  \\n \\nIV. Investment Income Allocation  \\n \\nFor sponsored program awards that require cash advances be allocated investment income,  investment \\nincome net of investment fees will be allocated to the award based upon the average monthly earnings in \\nthe Liquid/Short Term Pool. \\n \\nFunds invested separately for a specific  campus or  program will be allocated investment income /losses   \\ninclusive of investment fees based upon the actual investment income earned  or lost . \\n \\nOther Investment earnings or losses, net of investment fees and other charges as approved in the Annual \\nOperating Plan from the Liquid/Short T erm and Operational pools shall be allocated proportionately to each \\ncampus in a reasonable manner as determined by the Chief Financial Officer.  \\n \\nDistributions of investment income will be made to each campus with a cash surplus unless deemed to be \\nfiscally imprudent by the Chief Financial Officer.  \\n \\nCampuses with cash deficit balances shall be charged interest at the higher of the four year average yield \\nof the Operational Pool or the average interest rate which would be charged on the RF Line of Credit \\n(LOC).   Interest amounts charged to campuses wit h cash deficits, net of interest actually charged on the \\nLOC shall be allocated to campuses with cash surpluses.  \\n  ',\n",
       "  'score': 7.713850975036621,\n",
       "  'normalized_score': 0.2184706301034513},\n",
       " {'fileName': 'SUNY RF - General Investment Policy and Guidelines.pdf',\n",
       "  'textIdx': 16,\n",
       "  'pageLabel': '17',\n",
       "  'text': 'Research  Foundation  for the State University of New York  \\nInvestment Policy and Guidelines  \\n \\nSeptember 21, 2023  \\n \\n17 \\n objectives requires prudent risk -taking, and that risk is the prerequisite for generating excess investment \\nreturns.  \\n \\nThe Committee’s policy regarding investment risk, consistent with modern portfolio theory, is that risk \\ncannot be eliminated but should be managed. That is, the level of risk taken should be consistent with the \\nreturn objectives of the various investment p ools. The Committee is responsible for:  \\n \\n• understanding the risks in various investment strategies  \\n• measuring and monitoring risks  \\n• ensuring proper return relevant to risk  \\n \\n  \\nThe Committee establishes the framework for risk management through the investment policy, which \\nincludes such items as the strategic asset allocation and performance objectives. However, tolerance for \\nrisk may also be expressed in the form of various othe r metrics or types of risk. The Committee  is \\nresponsible for managing total risk and shall implement procedures and safeguards so that the combined \\nrisk exposures of all portfolios in the aggregate are kept within limits established .  Although the \\nmanageme nt of investment portfolios may be outsourced, investment oversight and risk management are \\nprimary fiduciary duties of the Committee .  \\n \\nPrincipal risks that impact the investment program  \\n \\nGeneral risks  \\n \\n• Market risk  is the risk that the value of an investment will decrease due to moves in market factors.  \\n• Liquidity risk is the risk that arises from the difficulty of selling an investment.  Some assets are highly \\nliquid and have low liquidity risk, while other assets are highly illiquid and have high liquidity  risk. \\n• Interest rate risk is the risk that changes in interest rates will adversely affect the fair value of the \\ninvestment.  \\n• Concentration of credit risk  is defined as an excess of investments in any one issuer or exposure to a \\nnumber of counterparties engaged in similar activities and having similar economic characteristics that \\nwould be similarly affected by changes in economic or other conditions.  \\n• Credit risk is the risk of loss due to a debtor’s non -payment of a fixed income instrument (either the \\nprincipal or interest (coupon) or both).  \\n• Custodial credit risk  is the risk that, in the event of a failure of the counterparty, the RF will not be able \\nto recover the value of its investment or collateral securities that are in the possession of an outside \\nparty.  Investment securities are exposed to custodial credit risk if the securities are uninsured, are not \\nregistered in the name of the RF and are held by either the counterparty or the counterparty’s trust \\ndepartment or agent but not in the RF’s name.  \\n• Foreign currency risk  is the risk that changes in exchange rates will adversely affect the fair value of an \\ninvestment or a deposit.  \\n \\nOperational Risk  \\n \\n• Management risk  is the overall structure established to provide the framework for an efficient and \\neffective investment process. This includes such items as board committee structure; investment policy ',\n",
       "  'score': 0.8402507305145264,\n",
       "  'normalized_score': 0.037037174362815256}]"
      ]
     },
     "execution_count": 39,
     "metadata": {},
     "output_type": "execute_result"
    }
   ],
   "source": [
    "df_hybrid_search.to_dict(orient='records')"
   ]
  },
  {
   "cell_type": "code",
   "execution_count": null,
   "metadata": {},
   "outputs": [],
   "source": [
    "\n",
    "\n",
    "both_retrieved_sentence = [item for item in keyword_search if item]\n"
   ]
  },
  {
   "cell_type": "code",
   "execution_count": 14,
   "metadata": {},
   "outputs": [
    {
     "data": {
      "text/plain": [
       "ObjectId('65a3f820fabf26f5f232c8c2')"
      ]
     },
     "execution_count": 14,
     "metadata": {},
     "output_type": "execute_result"
    }
   ],
   "source": [
    "results[0]['_id']"
   ]
  },
  {
   "cell_type": "code",
   "execution_count": 59,
   "metadata": {},
   "outputs": [],
   "source": [
    "from openai import OpenAI\n",
    "client = OpenAI(api_key=os.getenv(\"OPENAI_API_KEY\"))  # for OpenAI API calls"
   ]
  },
  {
   "cell_type": "code",
   "execution_count": 78,
   "metadata": {},
   "outputs": [],
   "source": [
    "results = [{'fileName': 'SUNY RF - General Investment Policy and Guidelines.pdf',\n",
    "            'textIdx': 6,\n",
    "            'pageLabel': '7',\n",
    "            'text': 'Research  Foundation  for the State University of New York  \\nInvestment Policy and Guidelines  \\n \\nSeptember 21, 2023  \\n \\n7 \\n  \\n \\nD. Asset Allocation  \\nIn order to  have a reasonable probability of consistently achieving the RF’s long term return objectives, \\nthe Committee has adopted the asset allocation policies outlined below : \\n \\n \\nOPERATIONAL POOL MEDIUM DURATION  \\nAsset Class  Long Term Target %  Ranges  \\nCash  3% 0-10% \\n      \\nFixed Income  31.5%  15-45% \\nGovernment Bonds  12.5%    0-20%  \\nCredit  19% 5-30% \\n   \\nEquities  33% 20-40% \\nGlobal Equities  17% 10-30% \\nHedged Equities  16% 0-30% \\nPrivate Equity  0% 0% \\n      \\nAbsolute Return  15% 0-25% \\n      \\nReal Assets  17.5%  5-30% \\nInflation -Protected  12.5%  0-20% \\nCommodities  0% 0-5% \\nGlobal Real Estate  5% 2-15% \\n \\n \\n OPERATIONAL POOL  LONG DURATION  \\nAsset Class  Long Term Target %  Ranges  \\nCash  1% 0-10% \\n      \\nFixed Income  21% 5-30% \\nGovernment Bonds  8% 0-30% \\nCredit   4%  0-20%  \\nPrivate Debt  9% 0-20% \\n   \\nEquities  60% 40-80% \\nGlobal Equities  28% 20-50% \\nHedged Equities  15% 0-25% \\nPrivate Equity  17% 0-25% \\n      \\nAbsolute Return  5% 0-20% \\n      \\nReal Assets  13% 10-30% \\nInflation -Protected  3% 0-10% \\nCommodities  0% 0-10% ',\n",
    "            'score': 0.8712109327316284},\n",
    "           {'fileName': 'SUNY RF - General Investment Policy and Guidelines.pdf',\n",
    "            'textIdx': 4,\n",
    "            'pageLabel': '5',\n",
    "            'text': 'Research  Foundation  for the State University of New York  \\nInvestment Policy and Guidelines  \\n \\nSeptember 21, 2023  \\n \\n5 \\n  \\n \\nOperational Pool s - Funds are invested in one of these pools when the Liquid /Short Term Pool contains \\nexcess cash .  \\n \\nThe objectives for the Operational Pool are as follows:  \\n \\n• Ensure adequate liquidity for operating  needs  \\n• Preserve capital in negative market environments  \\n• Provide annual support for the RF’s operating budget and preserve  the real purchasing power \\n(after inflation and fees) of the assets over time  \\n• Generate reasonable  risk-adjusted returns  that compare favorably with peer institutions  \\n \\nEach pool has a different risk, return, and liquidity profile.  Portfolio construction and manager selection \\nshould be aligned with the respective goals of each pool.  \\n \\n• Operational Pool Medium Duration:  70% of the portfolio is assumed to have a duration of 1 -6 \\nyears.  30% of the portfolio is assumed to have potential for withdrawal in less than a year.     Long \\nterm return target of 5.0% .  Aim to minimize the probability of a decline in excess of 5% in any \\nsingle year.  \\n• Operational Pool Long Duration:  80% of the portfolio is assumed to have a duration of 7 -10 years \\nor longer.   Long term return target of 7 %.   Aim to minimize the probability of a decline in excess  of \\n15% in any single year.  \\n \\nVoluntary Employee Beneficiary (VEBA) Trust  – A VEBA Trust has been established to separately \\ninvest funds for post-retirement health care benefits to eligible employees.  The VEBA Trust is a separate \\nlegal entity .  \\n \\nThese funds are designated to meet the cost of health insurance for current and future retirees.  \\n \\nThe investment strategy for the trust should allow the RF to meet ongoing obligations while minimizing \\ncontributions and controlling risks.   \\nOrdinarily, the asset allocation plan would be structured such that:  \\n \\n• Short term liabilities are funded by short term assets  \\n• Intermediate term liabilities are funded by intermediate term assets  \\n• Long term liabilities are funded by long term assets    \\nCurrently short and intermediate term liabilities will be paid from routine operational cash that is collected \\nas part of the fringe benefit rate charged against salaries. Accordingly assets within the Trust should be \\nallocated to fund long term liabilities. If the funding plan changes and funds are deposited to cover the \\ncurrent year benefit obligations, these funds will be invested in cash/short term assets and available for \\nmonthly withdrawals.   \\n \\n• 80% of the portfolio is assumed to have a duration of 7 -10 years or longer .  Long term return target \\nof 7%.   Aim to minimize the probability of a decline in excess of 15% in any single year.  ',\n",
    "            'score': 0.8575598001480103},\n",
    "           {'fileName': 'SUNY RF - General Investment Policy and Guidelines.pdf',\n",
    "            'textIdx': 7,\n",
    "            'pageLabel': '8',\n",
    "            'text': 'Research  Foundation  for the State University of New York  \\nInvestment Policy and Guidelines  \\n \\nSeptember 21, 2023  \\n \\n8 \\n Global Real Estate  10% 5-20% \\n   \\n \\nVoluntary Employee Beneficiary Association (VEBA) Trust  \\nAsset Class  Long Term Target %  Ranges  \\nCash  1% 0-10% \\n      \\nFixed Income  21% 5-30% \\nGovernment Bonds  8% 0-30% \\nCredit  4% 0-20% \\nPrivate Debt  9% 0-20% \\n      \\nEquities  60% 40-80% \\nGlobal Equities  28% 20-50% \\nHedged Equities  15% 0-25% \\nPrivate Equity  17% 0-25% \\n      \\nAbsolute Return  5% 0-20% \\n      \\nReal Assets  13% 10-30% \\nInflation -Protected  3% 0-10% \\nCommodities  0% 0-10% \\nGlobal Real Estate  10% 5-20% \\n \\n  \\nE. Ineligible Investments  \\nUnless specifically approved by the Committee  or consistent with the Exception below , certain securities, \\nstrategies and investments are ineligible for direct investment:  \\n• Derivative instruments, except as otherwise permitted in the Derivatives Policy and for Currency \\nhedging overlays.  \\n• Privately -placed debt, except marketable securities issued under Rule 144A.  \\n• Initial investments in lettered, legend or other so -called restricted stock.  \\n• Private placements,  real estate, oil and gas and venture capital .   \\n• Investments in transactions that may generate unrelated business taxable income (“UBTI”)  are \\npermitted as long as it is expected to be low and UBTI at the portfolio level is well below 10% of \\ntotal revenue . \\n• Investments or transactions that would be non -exempt prohibited transactions under Section 406 of \\nERISA or Section 4975 of the Internal Revenue Code.  \\n• Securities of the investment manager, their parent  or subsidiary companies (excluding money \\nmarket funds) or any other security that could be considered a self -dealing transaction.  ',\n",
    "            'score': 0.8482080698013306},\n",
    "           {'fileName': 'SUNY RF - General Investment Policy and Guidelines.pdf',\n",
    "            'textIdx': 16,\n",
    "            'pageLabel': '17',\n",
    "            'text': 'Research  Foundation  for the State University of New York  \\nInvestment Policy and Guidelines  \\n \\nSeptember 21, 2023  \\n \\n17 \\n objectives requires prudent risk -taking, and that risk is the prerequisite for generating excess investment \\nreturns.  \\n \\nThe Committee’s policy regarding investment risk, consistent with modern portfolio theory, is that risk \\ncannot be eliminated but should be managed. That is, the level of risk taken should be consistent with the \\nreturn objectives of the various investment p ools. The Committee is responsible for:  \\n \\n• understanding the risks in various investment strategies  \\n• measuring and monitoring risks  \\n• ensuring proper return relevant to risk  \\n \\n  \\nThe Committee establishes the framework for risk management through the investment policy, which \\nincludes such items as the strategic asset allocation and performance objectives. However, tolerance for \\nrisk may also be expressed in the form of various othe r metrics or types of risk. The Committee  is \\nresponsible for managing total risk and shall implement procedures and safeguards so that the combined \\nrisk exposures of all portfolios in the aggregate are kept within limits established .  Although the \\nmanageme nt of investment portfolios may be outsourced, investment oversight and risk management are \\nprimary fiduciary duties of the Committee .  \\n \\nPrincipal risks that impact the investment program  \\n \\nGeneral risks  \\n \\n• Market risk  is the risk that the value of an investment will decrease due to moves in market factors.  \\n• Liquidity risk is the risk that arises from the difficulty of selling an investment.  Some assets are highly \\nliquid and have low liquidity risk, while other assets are highly illiquid and have high liquidity  risk. \\n• Interest rate risk is the risk that changes in interest rates will adversely affect the fair value of the \\ninvestment.  \\n• Concentration of credit risk  is defined as an excess of investments in any one issuer or exposure to a \\nnumber of counterparties engaged in similar activities and having similar economic characteristics that \\nwould be similarly affected by changes in economic or other conditions.  \\n• Credit risk is the risk of loss due to a debtor’s non -payment of a fixed income instrument (either the \\nprincipal or interest (coupon) or both).  \\n• Custodial credit risk  is the risk that, in the event of a failure of the counterparty, the RF will not be able \\nto recover the value of its investment or collateral securities that are in the possession of an outside \\nparty.  Investment securities are exposed to custodial credit risk if the securities are uninsured, are not \\nregistered in the name of the RF and are held by either the counterparty or the counterparty’s trust \\ndepartment or agent but not in the RF’s name.  \\n• Foreign currency risk  is the risk that changes in exchange rates will adversely affect the fair value of an \\ninvestment or a deposit.  \\n \\nOperational Risk  \\n \\n• Management risk  is the overall structure established to provide the framework for an efficient and \\neffective investment process. This includes such items as board committee structure; investment policy ',\n",
    "            'score': 0.8402507305145264},\n",
    "           {'fileName': 'SUNY RF - General Investment Policy and Guidelines.pdf',\n",
    "            'textIdx': 11,\n",
    "            'pageLabel': '12',\n",
    "            'text': 'Research  Foundation  for the State University of New York  \\nInvestment Policy and Guidelines  \\n \\nSeptember 21, 2023  \\n \\n12 \\n Creation of Market Exposures : Investment managers are permitted to use derivatives to replicate \\nthe risk/return profile of an asset or asset class provided that the guidelines for the investment \\nmanager allow for such exposures to be created with the underlying assets themselves.   \\n \\nManagement of Country and Asset Allocation Exposure:   Managers charged with tactically \\nchanging the exposure of their portfolio to different countries and/or asset classes are permitted to \\nuse derivative contracts for this purpose.  \\n \\nBy way of amplification, it is noted that the following two uses of derivatives are prohibited:  \\n \\nLeverage :  Derivatives shall not be used to magnify overall portfolio exposure to an asset, asset \\nclass, interest rate, or any other financial vehicle beyond that which would be allowed by a \\nportfolio’s investment guidelines if derivatives were not used.  \\n  \\nUnrelated Speculation :  Derivatives shall not be used to create exposures to securities, currencies, \\nindices, or any other financial vehicle unless such exposures would be allowed by a portfolio’s \\ninvestment guidelines if created with non -derivative securities.  \\n \\n6. Other Considerations  \\nThe Committee considers environment, social and governance (ESG) factors in making its \\ninvestment decisions. While the Committee’s primary objective is to manage capital prudently and \\nseek financial return for the benefit of the institution, th e Committee believes that evaluating ESG \\nconsiderations and risks is consistent with the goal of maximizing the long term risk  adjusted returns \\nof the portfolio. Since the Committee manages the portfolio predominantly through external \\ninvestment managers, it seeks to engage in a dialog with these managers about integrating ESG \\nconsiderations into their investment processes and  ownership philosophy with the assistance of its \\ninvestment advisor.  \\n \\nThe Committee recognizes that as an economic development and innovation engine, SUNY and its \\ncampuses may wish to use unrestricted funds on investments enabling SUNY research and \\ninnovation to transform the world’s knowledge economy and solving the world’s most pressing \\nproblems.  Thus, the Committee recognizes that in certain circumstances RF management should be \\nallowed to approve requests from campuses to reinvest income generated from intellectual property \\nlicenses in SUNY  Affiliated Startup Companies.  \\n \\nIII. Performance Standards and Evaluation  \\nInvestment performance , portfolio risk exposure and risk -adjusted returns will be evaluated and compared \\nwith peer institutions, the Allocation Index, and the Policy Index.  While it is anticipated that there will be \\nfluctuations in investment performance, the investments should , at a minimum, produce a long term rate of \\nreturn, net of all expenses, that approximates the Policy Index.  Returns for the RF and for individual \\nmanagers are expected to rank in the top third of comparable funds or managers, respe ctively, over a full \\nmarket cycle.  \\n \\n1 Allocation Index is calculated by taking the actual asset class weights, at quarter end, times the return of the \\nrespective passive benchmark.  It measures the effectiveness of the portfolios’ deviations from target weights.  \\n ',\n",
    "            'score': 0.8390599489212036}]"
   ]
  },
  {
   "cell_type": "code",
   "execution_count": 72,
   "metadata": {},
   "outputs": [],
   "source": [
    "import pandas as pd"
   ]
  },
  {
   "cell_type": "code",
   "execution_count": 74,
   "metadata": {},
   "outputs": [],
   "source": [
    "df_results = pd.DataFrame(results)"
   ]
  },
  {
   "cell_type": "code",
   "execution_count": 77,
   "metadata": {},
   "outputs": [
    {
     "data": {
      "text/html": [
       "<div>\n",
       "<style scoped>\n",
       "    .dataframe tbody tr th:only-of-type {\n",
       "        vertical-align: middle;\n",
       "    }\n",
       "\n",
       "    .dataframe tbody tr th {\n",
       "        vertical-align: top;\n",
       "    }\n",
       "\n",
       "    .dataframe thead th {\n",
       "        text-align: right;\n",
       "    }\n",
       "</style>\n",
       "<table border=\"1\" class=\"dataframe\">\n",
       "  <thead>\n",
       "    <tr style=\"text-align: right;\">\n",
       "      <th></th>\n",
       "      <th>fileName</th>\n",
       "      <th>textIdx</th>\n",
       "      <th>pageLabel</th>\n",
       "      <th>text</th>\n",
       "      <th>score</th>\n",
       "    </tr>\n",
       "  </thead>\n",
       "  <tbody>\n",
       "    <tr>\n",
       "      <th>0</th>\n",
       "      <td>SUNY RF - General Investment Policy and Guidel...</td>\n",
       "      <td>6</td>\n",
       "      <td>7</td>\n",
       "      <td>Research  Foundation  for the State University...</td>\n",
       "      <td>0.871211</td>\n",
       "    </tr>\n",
       "    <tr>\n",
       "      <th>1</th>\n",
       "      <td>SUNY RF - General Investment Policy and Guidel...</td>\n",
       "      <td>4</td>\n",
       "      <td>5</td>\n",
       "      <td>Research  Foundation  for the State University...</td>\n",
       "      <td>0.857560</td>\n",
       "    </tr>\n",
       "    <tr>\n",
       "      <th>2</th>\n",
       "      <td>SUNY RF - General Investment Policy and Guidel...</td>\n",
       "      <td>7</td>\n",
       "      <td>8</td>\n",
       "      <td>Research  Foundation  for the State University...</td>\n",
       "      <td>0.848208</td>\n",
       "    </tr>\n",
       "    <tr>\n",
       "      <th>3</th>\n",
       "      <td>SUNY RF - General Investment Policy and Guidel...</td>\n",
       "      <td>16</td>\n",
       "      <td>17</td>\n",
       "      <td>Research  Foundation  for the State University...</td>\n",
       "      <td>0.840251</td>\n",
       "    </tr>\n",
       "    <tr>\n",
       "      <th>4</th>\n",
       "      <td>SUNY RF - General Investment Policy and Guidel...</td>\n",
       "      <td>11</td>\n",
       "      <td>12</td>\n",
       "      <td>Research  Foundation  for the State University...</td>\n",
       "      <td>0.839060</td>\n",
       "    </tr>\n",
       "  </tbody>\n",
       "</table>\n",
       "</div>"
      ],
      "text/plain": [
       "                                            fileName  textIdx pageLabel  \\\n",
       "0  SUNY RF - General Investment Policy and Guidel...        6         7   \n",
       "1  SUNY RF - General Investment Policy and Guidel...        4         5   \n",
       "2  SUNY RF - General Investment Policy and Guidel...        7         8   \n",
       "3  SUNY RF - General Investment Policy and Guidel...       16        17   \n",
       "4  SUNY RF - General Investment Policy and Guidel...       11        12   \n",
       "\n",
       "                                                text     score  \n",
       "0  Research  Foundation  for the State University...  0.871211  \n",
       "1  Research  Foundation  for the State University...  0.857560  \n",
       "2  Research  Foundation  for the State University...  0.848208  \n",
       "3  Research  Foundation  for the State University...  0.840251  \n",
       "4  Research  Foundation  for the State University...  0.839060  "
      ]
     },
     "execution_count": 77,
     "metadata": {},
     "output_type": "execute_result"
    }
   ],
   "source": [
    "df_results.head()"
   ]
  },
  {
   "cell_type": "code",
   "execution_count": null,
   "metadata": {},
   "outputs": [],
   "source": []
  },
  {
   "cell_type": "code",
   "execution_count": 69,
   "metadata": {},
   "outputs": [],
   "source": [
    "context = results[0]['text']\n",
    "query = \"The percentage of the asset allocation with a duration longer than 7 years is less than 20%\""
   ]
  },
  {
   "cell_type": "code",
   "execution_count": 70,
   "metadata": {},
   "outputs": [],
   "source": [
    "completion = client.chat.completions.create(\n",
    "    model='gpt-3.5-turbo',\n",
    "    messages=[\n",
    "        {\"role\": \"user\",\n",
    "         \"content\": f\"context:{context}\"},\n",
    "\n",
    "        {'role': 'system',\n",
    "         'content': f\" Determine how much the query delimited with triple backticks, is relevant to the context. Giving me a score that scale 0 to 1 only. query: {query}\"\n",
    "         },\n",
    "\n",
    "    ],\n",
    "    temperature=0,\n",
    "    stream=False  # this time, we set stream=True\n",
    ")"
   ]
  },
  {
   "cell_type": "code",
   "execution_count": 71,
   "metadata": {},
   "outputs": [
    {
     "data": {
      "text/plain": [
       "Choice(finish_reason='stop', index=0, logprobs=None, message=ChatCompletionMessage(content='0.8', role='assistant', function_call=None, tool_calls=None))"
      ]
     },
     "execution_count": 71,
     "metadata": {},
     "output_type": "execute_result"
    }
   ],
   "source": [
    "completion.choices[0]"
   ]
  },
  {
   "cell_type": "code",
   "execution_count": null,
   "metadata": {},
   "outputs": [],
   "source": []
  }
 ],
 "metadata": {
  "kernelspec": {
   "display_name": "torch",
   "language": "python",
   "name": "python3"
  },
  "language_info": {
   "codemirror_mode": {
    "name": "ipython",
    "version": 3
   },
   "file_extension": ".py",
   "mimetype": "text/x-python",
   "name": "python",
   "nbconvert_exporter": "python",
   "pygments_lexer": "ipython3",
   "version": "3.11.3"
  }
 },
 "nbformat": 4,
 "nbformat_minor": 2
}
