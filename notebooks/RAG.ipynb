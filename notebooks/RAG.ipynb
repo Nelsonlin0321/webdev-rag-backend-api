{
 "cells": [
  {
   "cell_type": "code",
   "execution_count": 1,
   "metadata": {},
   "outputs": [],
   "source": [
    "import sys\n",
    "sys.path.insert(0, \"./../\")"
   ]
  },
  {
   "cell_type": "code",
   "execution_count": 2,
   "metadata": {},
   "outputs": [],
   "source": [
    "import os\n",
    "from app.mongodb_engine import MongoDB\n",
    "from app.processor import PDFToSentenceEmbedding"
   ]
  },
  {
   "cell_type": "code",
   "execution_count": 3,
   "metadata": {},
   "outputs": [],
   "source": [
    "import dotenv"
   ]
  },
  {
   "cell_type": "code",
   "execution_count": 4,
   "metadata": {},
   "outputs": [
    {
     "data": {
      "text/plain": [
       "True"
      ]
     },
     "execution_count": 4,
     "metadata": {},
     "output_type": "execute_result"
    }
   ],
   "source": [
    "dotenv.load_dotenv()"
   ]
  },
  {
   "cell_type": "code",
   "execution_count": 5,
   "metadata": {},
   "outputs": [],
   "source": [
    "embedding_generator = PDFToSentenceEmbedding()"
   ]
  },
  {
   "cell_type": "code",
   "execution_count": 6,
   "metadata": {},
   "outputs": [],
   "source": [
    "mongo_db_engine = MongoDB()"
   ]
  },
  {
   "cell_type": "code",
   "execution_count": 7,
   "metadata": {},
   "outputs": [],
   "source": [
    "question = \"What are steps to take when finding projects to build your experience?\""
   ]
  },
  {
   "cell_type": "code",
   "execution_count": 8,
   "metadata": {},
   "outputs": [],
   "source": [
    "file_name = \"eBook-How-to-Build-a-Career-in-AI.pdf\""
   ]
  },
  {
   "cell_type": "code",
   "execution_count": 9,
   "metadata": {},
   "outputs": [],
   "source": [
    "query_vector = embedding_generator.model.encode(question).tolist()"
   ]
  },
  {
   "cell_type": "code",
   "execution_count": 10,
   "metadata": {},
   "outputs": [],
   "source": [
    "retrieved_results = mongo_db_engine.vector_search(\n",
    "    query_vector=query_vector, file_name=file_name)"
   ]
  },
  {
   "cell_type": "code",
   "execution_count": 26,
   "metadata": {},
   "outputs": [],
   "source": [
    "context_dict = [{\"sentence\": item['text'], \"page number\": item['pageLabel']}\n",
    "                for item in retrieved_results]"
   ]
  },
  {
   "cell_type": "code",
   "execution_count": 27,
   "metadata": {},
   "outputs": [],
   "source": [
    "import json"
   ]
  },
  {
   "cell_type": "code",
   "execution_count": 30,
   "metadata": {},
   "outputs": [
    {
     "name": "stdout",
     "output_type": "stream",
     "text": [
      "[\n",
      "    {\n",
      "        \"sentence\": \"PAGE 18It goes without saying that we should only work on projects that are responsible, ethical, and \\nbeneficial to people. But those limits leave a large variety to choose from. In the previous chapter, \\nI wrote about how to identify and scope AI projects. This chapter and the next have a slightly \\ndifferent emphasis: picking and executing projects with an eye toward career development.\\nA fruitful career will include many projects, hopefully growing in scope, complexity, and impact \\nover time. Thus, it is fine to start small. Use early projects to learn and gradually step up to \\nbigger projects as your skills grow.\\nWhen you\\u2019re starting out, don\\u2019t expect others to hand great ideas or resources to you on a platter. \\nMany people start by working on small projects in their spare time. With initial successes \\u2014 even \\nsmall ones \\u2014 under your belt, your growing skills increase your ability to come up with better \\nideas, and it becomes easier to persuade others to help you step up to bigger projects.Finding Projects that Compliment Your Career Goals CHAPTER 5\\nJoin existing projects. If you find someone else with an idea, ask to join their project.\\nKeep reading and talking to people. I come up with new ideas whenever I spend a lot of \\ntime reading, taking courses, or talking with domain experts. I\\u2019m confident that you will, too.\\nFocus on an application area. Many researchers are trying to advance basic AI technology \\n\\u2014 say, by inventing the next generation of transformers or further scaling up language \\nmodels \\u2014 so, while this is an exciting direction, it is also very hard. But the variety of \\napplications to which machine learning has not yet been applied is vast! I\\u2019m fortunate to \\nhave been able to apply neural networks to everything from autonomous helicopter flight to \\nonline advertising, partly because I jumped in when relatively few people were working on \\nthose applications. If your company or school cares about a particular application, explore \\nthe possibilities for machine learning. That can give you a first look at a potentially creative \\napplication \\u2014 one where you can do unique work \\u2014 that no one else has done yet.\\u2713\\n\\u2713\\n\\u2713What if you don\\u2019t have any project ideas?\\nHere are a few ways to generate them:\",\n",
      "        \"page number\": \"18\"\n",
      "    },\n",
      "    {\n",
      "        \"sentence\": \"PAGE 18It goes without saying that we should only work on projects that are responsible, ethical, and \\nbeneficial to people. But those limits leave a large variety to choose from. In the previous chapter, \\nI wrote about how to identify and scope AI projects. This chapter and the next have a slightly \\ndifferent emphasis: picking and executing projects with an eye toward career development.\\nA fruitful career will include many projects, hopefully growing in scope, complexity, and impact \\nover time. Thus, it is fine to start small. Use early projects to learn and gradually step up to \\nbigger projects as your skills grow.\\nWhen you\\u2019re starting out, don\\u2019t expect others to hand great ideas or resources to you on a platter. \\nMany people start by working on small projects in their spare time. With initial successes \\u2014 even \\nsmall ones \\u2014 under your belt, your growing skills increase your ability to come up with better \\nideas, and it becomes easier to persuade others to help you step up to bigger projects.Finding Projects that Compliment Your Career Goals CHAPTER 5\\nJoin existing projects. If you find someone else with an idea, ask to join their project.\\nKeep reading and talking to people. I come up with new ideas whenever I spend a lot of \\ntime reading, taking courses, or talking with domain experts. I\\u2019m confident that you will, too.\\nFocus on an application area. Many researchers are trying to advance basic AI technology \\n\\u2014 say, by inventing the next generation of transformers or further scaling up language \\nmodels \\u2014 so, while this is an exciting direction, it is also very hard. But the variety of \\napplications to which machine learning has not yet been applied is vast! I\\u2019m fortunate to \\nhave been able to apply neural networks to everything from autonomous helicopter flight to \\nonline advertising, partly because I jumped in when relatively few people were working on \\nthose applications. If your company or school cares about a particular application, explore \\nthe possibilities for machine learning. That can give you a first look at a potentially creative \\napplication \\u2014 one where you can do unique work \\u2014 that no one else has done yet.\\u2713\\n\\u2713\\n\\u2713What if you don\\u2019t have any project ideas?\\nHere are a few ways to generate them:\",\n",
      "        \"page number\": \"18\"\n",
      "    },\n",
      "    {\n",
      "        \"sentence\": \"PAGE 15One of the most important skills of an AI architect is the ability to identify ideas that are worth \\nworking on. These next few chapters will discuss finding and working on projects so you can gain \\nexperience and build your portfolio. \\nOver the years, I\\u2019ve had fun applying machine learning to manufacturing, healthcare, climate \\nchange, agriculture, ecommerce, advertising, and other industries. How can someone who\\u2019s not \\nan expert in all these sectors find meaningful projects within them? Here are five steps to help \\nyou scope projects.\\nIdentify a business problem (not an AI problem). I like to find \\na domain expert and ask, \\u201cWhat are the top three things \\nthat you wish worked better? Why aren\\u2019t they working yet?\\u201d \\nFor example, if you want to apply AI to climate change, you \\nmight discover that power-grid operators can\\u2019t accurately \\npredict how much power intermittent sources like wind \\nand solar might generate in the future.\\nBrainstorm AI solutions. When I was younger, I used to \\nexecute on the first idea I was excited about. Sometimes \\nthis worked out okay, but sometimes I ended up missing \\nan even better idea that might not have taken any more \\neffort to build. Once you understand a problem, you can \\nbrainstorm potential solutions more efficiently. For instance, \\nto predict power generation from intermittent sources, we \\nmight consider using satellite imagery to map the locations \\nof wind turbines more accurately, using satellite imagery \\nto estimate the height and generation capacity of wind \\nturbines, or using weather data to better predict cloud cover \\nand thus solar irradiance. Sometimes there isn\\u2019t a good AI \\nsolution, and that\\u2019s okay too.Scoping Successful AI Projects CHAPTER 4\\nStep 1\\nStep 2\\n\",\n",
      "        \"page number\": \"15\"\n",
      "    },\n",
      "    {\n",
      "        \"sentence\": \"PAGE 15One of the most important skills of an AI architect is the ability to identify ideas that are worth \\nworking on. These next few chapters will discuss finding and working on projects so you can gain \\nexperience and build your portfolio. \\nOver the years, I\\u2019ve had fun applying machine learning to manufacturing, healthcare, climate \\nchange, agriculture, ecommerce, advertising, and other industries. How can someone who\\u2019s not \\nan expert in all these sectors find meaningful projects within them? Here are five steps to help \\nyou scope projects.\\nIdentify a business problem (not an AI problem). I like to find \\na domain expert and ask, \\u201cWhat are the top three things \\nthat you wish worked better? Why aren\\u2019t they working yet?\\u201d \\nFor example, if you want to apply AI to climate change, you \\nmight discover that power-grid operators can\\u2019t accurately \\npredict how much power intermittent sources like wind \\nand solar might generate in the future.\\nBrainstorm AI solutions. When I was younger, I used to \\nexecute on the first idea I was excited about. Sometimes \\nthis worked out okay, but sometimes I ended up missing \\nan even better idea that might not have taken any more \\neffort to build. Once you understand a problem, you can \\nbrainstorm potential solutions more efficiently. For instance, \\nto predict power generation from intermittent sources, we \\nmight consider using satellite imagery to map the locations \\nof wind turbines more accurately, using satellite imagery \\nto estimate the height and generation capacity of wind \\nturbines, or using weather data to better predict cloud cover \\nand thus solar irradiance. Sometimes there isn\\u2019t a good AI \\nsolution, and that\\u2019s okay too.Scoping Successful AI Projects CHAPTER 4\\nStep 1\\nStep 2\\n\",\n",
      "        \"page number\": \"15\"\n",
      "    },\n",
      "    {\n",
      "        \"sentence\": \"PAGE 6The rapid rise of AI has led to a rapid rise in AI jobs, and many people are building exciting \\ncareers in this field. A career is a decades-long journey, and the path is not straightforward. \\nOver many years, I\\u2019ve been privileged to see thousands of students, as well as engineers in \\ncompanies large and small, navigate careers in AI.\\n \\nHere\\u2019s a framework for charting your own course.\\nLater, you will work \\non finding a job. \\nThroughout this \\nprocess, you\\u2019ll continue \\nto learn and work on \\nmeaningful projects. \\nChapters with the\\nfocus on a job search.Three key steps of career growth are learning foundational skills, working on projects (to \\ndeepen your skills, build a portfolio, and create impact), and finding a job. These steps stack \\non top of each other:Three Steps to Career Growth\\nLEARNING PROJECTS JOBCHAPTER 1\\nInitially, you \\nfocus on learning \\nfoundational skills. \\nChapters with the \\ncover topics about \\nlearning foundational \\ntechnical skills. After having gained \\nfoundational technical \\nskills, you will begin \\nworking on projects. \\nDuring this period, you\\u2019ll \\nalso keep learning. \\nChapters with the     \\nfocus on projects. \",\n",
      "        \"page number\": \"6\"\n",
      "    }\n",
      "]\n"
     ]
    }
   ],
   "source": [
    "print(json.dumps(context_dict))"
   ]
  },
  {
   "cell_type": "code",
   "execution_count": 162,
   "metadata": {},
   "outputs": [],
   "source": [
    "def generate_prompt(retrieved_results):\n",
    "\n",
    "    context_dict = [{\"sentence\": item['text'], \"page number\": item['pageLabel']}\n",
    "                    for item in retrieved_results]\n",
    "\n",
    "    context_json = json.dumps(context_dict)\n",
    "\n",
    "    prompt = \"Given retrieved document content with page number in json format, please generate a concise and accurate answer to the following question with a page number to indicate where the evidence is. The answer should follow below template: Answer: {Answer} Page Number->{page_number}.\" + \\\n",
    "        f\"\\n {context_json}\"\n",
    "    return prompt"
   ]
  },
  {
   "cell_type": "code",
   "execution_count": 163,
   "metadata": {},
   "outputs": [],
   "source": [
    "prompt = generate_prompt(retrieved_results)"
   ]
  },
  {
   "cell_type": "code",
   "execution_count": 164,
   "metadata": {},
   "outputs": [
    {
     "name": "stdout",
     "output_type": "stream",
     "text": [
      "Given retrieved document content with page number in json format, please generate a concise and accurate answer to the following question with a page number to indicate where the evidence is. The answer should follow below template: Answer: {Answer} Page Number->{page_number}.\n",
      " [{\"sentence\": \"PAGE 18It goes without saying that we should only work on projects that are responsible, ethical, and \\nbeneficial to people. But those limits leave a large variety to choose from. In the previous chapter, \\nI wrote about how to identify and scope AI projects. This chapter and the next have a slightly \\ndifferent emphasis: picking and executing projects with an eye toward career development.\\nA fruitful career will include many projects, hopefully growing in scope, complexity, and impact \\nover time. Thus, it is fine to start small. Use early projects to learn and gradually step up to \\nbigger projects as your skills grow.\\nWhen you\\u2019re starting out, don\\u2019t expect others to hand great ideas or resources to you on a platter. \\nMany people start by working on small projects in their spare time. With initial successes \\u2014 even \\nsmall ones \\u2014 under your belt, your growing skills increase your ability to come up with better \\nideas, and it becomes easier to persuade others to help you step up to bigger projects.Finding Projects that Compliment Your Career Goals CHAPTER 5\\nJoin existing projects. If you find someone else with an idea, ask to join their project.\\nKeep reading and talking to people. I come up with new ideas whenever I spend a lot of \\ntime reading, taking courses, or talking with domain experts. I\\u2019m confident that you will, too.\\nFocus on an application area. Many researchers are trying to advance basic AI technology \\n\\u2014 say, by inventing the next generation of transformers or further scaling up language \\nmodels \\u2014 so, while this is an exciting direction, it is also very hard. But the variety of \\napplications to which machine learning has not yet been applied is vast! I\\u2019m fortunate to \\nhave been able to apply neural networks to everything from autonomous helicopter flight to \\nonline advertising, partly because I jumped in when relatively few people were working on \\nthose applications. If your company or school cares about a particular application, explore \\nthe possibilities for machine learning. That can give you a first look at a potentially creative \\napplication \\u2014 one where you can do unique work \\u2014 that no one else has done yet.\\u2713\\n\\u2713\\n\\u2713What if you don\\u2019t have any project ideas?\\nHere are a few ways to generate them:\", \"page number\": \"18\"}, {\"sentence\": \"PAGE 18It goes without saying that we should only work on projects that are responsible, ethical, and \\nbeneficial to people. But those limits leave a large variety to choose from. In the previous chapter, \\nI wrote about how to identify and scope AI projects. This chapter and the next have a slightly \\ndifferent emphasis: picking and executing projects with an eye toward career development.\\nA fruitful career will include many projects, hopefully growing in scope, complexity, and impact \\nover time. Thus, it is fine to start small. Use early projects to learn and gradually step up to \\nbigger projects as your skills grow.\\nWhen you\\u2019re starting out, don\\u2019t expect others to hand great ideas or resources to you on a platter. \\nMany people start by working on small projects in their spare time. With initial successes \\u2014 even \\nsmall ones \\u2014 under your belt, your growing skills increase your ability to come up with better \\nideas, and it becomes easier to persuade others to help you step up to bigger projects.Finding Projects that Compliment Your Career Goals CHAPTER 5\\nJoin existing projects. If you find someone else with an idea, ask to join their project.\\nKeep reading and talking to people. I come up with new ideas whenever I spend a lot of \\ntime reading, taking courses, or talking with domain experts. I\\u2019m confident that you will, too.\\nFocus on an application area. Many researchers are trying to advance basic AI technology \\n\\u2014 say, by inventing the next generation of transformers or further scaling up language \\nmodels \\u2014 so, while this is an exciting direction, it is also very hard. But the variety of \\napplications to which machine learning has not yet been applied is vast! I\\u2019m fortunate to \\nhave been able to apply neural networks to everything from autonomous helicopter flight to \\nonline advertising, partly because I jumped in when relatively few people were working on \\nthose applications. If your company or school cares about a particular application, explore \\nthe possibilities for machine learning. That can give you a first look at a potentially creative \\napplication \\u2014 one where you can do unique work \\u2014 that no one else has done yet.\\u2713\\n\\u2713\\n\\u2713What if you don\\u2019t have any project ideas?\\nHere are a few ways to generate them:\", \"page number\": \"18\"}, {\"sentence\": \"PAGE 15One of the most important skills of an AI architect is the ability to identify ideas that are worth \\nworking on. These next few chapters will discuss finding and working on projects so you can gain \\nexperience and build your portfolio. \\nOver the years, I\\u2019ve had fun applying machine learning to manufacturing, healthcare, climate \\nchange, agriculture, ecommerce, advertising, and other industries. How can someone who\\u2019s not \\nan expert in all these sectors find meaningful projects within them? Here are five steps to help \\nyou scope projects.\\nIdentify a business problem (not an AI problem). I like to find \\na domain expert and ask, \\u201cWhat are the top three things \\nthat you wish worked better? Why aren\\u2019t they working yet?\\u201d \\nFor example, if you want to apply AI to climate change, you \\nmight discover that power-grid operators can\\u2019t accurately \\npredict how much power intermittent sources like wind \\nand solar might generate in the future.\\nBrainstorm AI solutions. When I was younger, I used to \\nexecute on the first idea I was excited about. Sometimes \\nthis worked out okay, but sometimes I ended up missing \\nan even better idea that might not have taken any more \\neffort to build. Once you understand a problem, you can \\nbrainstorm potential solutions more efficiently. For instance, \\nto predict power generation from intermittent sources, we \\nmight consider using satellite imagery to map the locations \\nof wind turbines more accurately, using satellite imagery \\nto estimate the height and generation capacity of wind \\nturbines, or using weather data to better predict cloud cover \\nand thus solar irradiance. Sometimes there isn\\u2019t a good AI \\nsolution, and that\\u2019s okay too.Scoping Successful AI Projects CHAPTER 4\\nStep 1\\nStep 2\\n\", \"page number\": \"15\"}, {\"sentence\": \"PAGE 15One of the most important skills of an AI architect is the ability to identify ideas that are worth \\nworking on. These next few chapters will discuss finding and working on projects so you can gain \\nexperience and build your portfolio. \\nOver the years, I\\u2019ve had fun applying machine learning to manufacturing, healthcare, climate \\nchange, agriculture, ecommerce, advertising, and other industries. How can someone who\\u2019s not \\nan expert in all these sectors find meaningful projects within them? Here are five steps to help \\nyou scope projects.\\nIdentify a business problem (not an AI problem). I like to find \\na domain expert and ask, \\u201cWhat are the top three things \\nthat you wish worked better? Why aren\\u2019t they working yet?\\u201d \\nFor example, if you want to apply AI to climate change, you \\nmight discover that power-grid operators can\\u2019t accurately \\npredict how much power intermittent sources like wind \\nand solar might generate in the future.\\nBrainstorm AI solutions. When I was younger, I used to \\nexecute on the first idea I was excited about. Sometimes \\nthis worked out okay, but sometimes I ended up missing \\nan even better idea that might not have taken any more \\neffort to build. Once you understand a problem, you can \\nbrainstorm potential solutions more efficiently. For instance, \\nto predict power generation from intermittent sources, we \\nmight consider using satellite imagery to map the locations \\nof wind turbines more accurately, using satellite imagery \\nto estimate the height and generation capacity of wind \\nturbines, or using weather data to better predict cloud cover \\nand thus solar irradiance. Sometimes there isn\\u2019t a good AI \\nsolution, and that\\u2019s okay too.Scoping Successful AI Projects CHAPTER 4\\nStep 1\\nStep 2\\n\", \"page number\": \"15\"}, {\"sentence\": \"PAGE 6The rapid rise of AI has led to a rapid rise in AI jobs, and many people are building exciting \\ncareers in this field. A career is a decades-long journey, and the path is not straightforward. \\nOver many years, I\\u2019ve been privileged to see thousands of students, as well as engineers in \\ncompanies large and small, navigate careers in AI.\\n \\nHere\\u2019s a framework for charting your own course.\\nLater, you will work \\non finding a job. \\nThroughout this \\nprocess, you\\u2019ll continue \\nto learn and work on \\nmeaningful projects. \\nChapters with the\\nfocus on a job search.Three key steps of career growth are learning foundational skills, working on projects (to \\ndeepen your skills, build a portfolio, and create impact), and finding a job. These steps stack \\non top of each other:Three Steps to Career Growth\\nLEARNING PROJECTS JOBCHAPTER 1\\nInitially, you \\nfocus on learning \\nfoundational skills. \\nChapters with the \\ncover topics about \\nlearning foundational \\ntechnical skills. After having gained \\nfoundational technical \\nskills, you will begin \\nworking on projects. \\nDuring this period, you\\u2019ll \\nalso keep learning. \\nChapters with the     \\nfocus on projects. \", \"page number\": \"6\"}]\n"
     ]
    }
   ],
   "source": [
    "\n",
    "print(prompt)"
   ]
  },
  {
   "cell_type": "code",
   "execution_count": 165,
   "metadata": {},
   "outputs": [],
   "source": [
    "from openai import OpenAI\n",
    "client = OpenAI(api_key=os.getenv(\"OPENAI_API_KEY\"))  # for OpenAI API callsa"
   ]
  },
  {
   "cell_type": "code",
   "execution_count": 166,
   "metadata": {},
   "outputs": [],
   "source": [
    "completion = client.chat.completions.create(\n",
    "    model='gpt-3.5-turbo',\n",
    "    messages=[\n",
    "        {'role': 'system',\n",
    "         'content': prompt,\n",
    "         },\n",
    "        {\"role\": \"user\",\n",
    "         \"content\": question}\n",
    "    ],\n",
    "    temperature=0,\n",
    "    stream=False  # this time, we set stream=True\n",
    ")"
   ]
  },
  {
   "cell_type": "code",
   "execution_count": 167,
   "metadata": {},
   "outputs": [
    {
     "name": "stdout",
     "output_type": "stream",
     "text": [
      "Answer: The steps to take when finding projects to build your experience are as follows:\n",
      "1. Identify a business problem (not an AI problem) and ask domain experts about the top three things they wish worked better. This helps you understand the real-world challenges that can be addressed with AI. (Page Number->15)\n",
      "2. Brainstorm potential AI solutions for the identified problem. Consider different approaches and technologies that can be used to solve the problem effectively. (Page Number->15)\n",
      "3. Join existing projects if someone else has an idea that aligns with your interests and goals. Collaborating with others can provide valuable learning opportunities and help you contribute to meaningful projects. (Page Number->18)\n",
      "4. Keep reading, taking courses, and talking to domain experts. Continuous learning and exposure to new ideas can spark creativity and help you generate project ideas. (Page Number->18)\n",
      "5. Focus on a specific application area where machine learning has not yet been extensively applied. This can give you the opportunity to explore unique and creative applications that no one else has worked on. (Page Number->18)\n",
      "\n",
      "Page Numbers: 15, 18\n"
     ]
    }
   ],
   "source": [
    "print(completion.choices[0].message.content)"
   ]
  },
  {
   "cell_type": "code",
   "execution_count": 168,
   "metadata": {},
   "outputs": [],
   "source": [
    "string = completion.choices[0].message.content"
   ]
  },
  {
   "cell_type": "code",
   "execution_count": null,
   "metadata": {},
   "outputs": [],
   "source": [
    "get_"
   ]
  },
  {
   "cell_type": "code",
   "execution_count": 181,
   "metadata": {},
   "outputs": [],
   "source": [
    "import re\n",
    "\n",
    "pattern = \"Page Number->(\\d+)\"\n",
    "# Find all matches of the pattern in the string\n",
    "founds = re.findall(pattern, string)"
   ]
  },
  {
   "cell_type": "code",
   "execution_count": 183,
   "metadata": {},
   "outputs": [],
   "source": [
    "if founds:\n",
    "    page_number = int(founds[0])"
   ]
  },
  {
   "cell_type": "code",
   "execution_count": 185,
   "metadata": {},
   "outputs": [],
   "source": [
    "def get_pag_number(string):\n",
    "\n",
    "    page_number = 1\n",
    "    pattern = \"Page Number->(\\d+)\"\n",
    "    # Find all matches of the pattern in the string\n",
    "    founds = re.findall(pattern, string)\n",
    "\n",
    "    if founds:\n",
    "        try:\n",
    "            page_number = int(founds[0])\n",
    "        except IndexError:\n",
    "            pass\n",
    "\n",
    "    return page_number"
   ]
  },
  {
   "cell_type": "code",
   "execution_count": 186,
   "metadata": {},
   "outputs": [
    {
     "data": {
      "text/plain": [
       "15"
      ]
     },
     "execution_count": 186,
     "metadata": {},
     "output_type": "execute_result"
    }
   ],
   "source": [
    "get_pag_number(string)"
   ]
  },
  {
   "cell_type": "code",
   "execution_count": null,
   "metadata": {},
   "outputs": [],
   "source": []
  },
  {
   "cell_type": "code",
   "execution_count": 182,
   "metadata": {},
   "outputs": [
    {
     "data": {
      "text/plain": [
       "['15', '15', '18', '18', '18']"
      ]
     },
     "execution_count": 182,
     "metadata": {},
     "output_type": "execute_result"
    }
   ],
   "source": [
    "founds"
   ]
  },
  {
   "cell_type": "code",
   "execution_count": null,
   "metadata": {},
   "outputs": [],
   "source": []
  },
  {
   "cell_type": "code",
   "execution_count": 108,
   "metadata": {},
   "outputs": [
    {
     "name": "stdout",
     "output_type": "stream",
     "text": [
      "Answer: The steps to take when finding projects to build your experience are as follows:\n",
      "1. Identify a business problem (not an AI problem) and ask domain experts about the top three things they wish worked better. (Page Number: 15)\n",
      "2. Brainstorm potential AI solutions for the identified problem. (Page Number: 15)\n",
      "3. Join existing projects by collaborating with someone who already has an idea. (Page Number: 18)\n",
      "4. Keep reading, taking courses, and talking to domain experts to generate new project ideas. (Page Number: 18)\n",
      "5. Focus on an application area that has not yet been explored with machine learning. (Page Number: 18)\n",
      "\n",
      "Page Number: (15, 18)\n"
     ]
    }
   ],
   "source": [
    "print(completion.choices[0].message.content)"
   ]
  },
  {
   "cell_type": "code",
   "execution_count": 99,
   "metadata": {},
   "outputs": [],
   "source": [
    "import re\n",
    "isfound = re.findall(pattern=\"Page Number: ((.*))\",\n",
    "                     string=completion.choices[0].message.content)"
   ]
  },
  {
   "cell_type": "code",
   "execution_count": 100,
   "metadata": {},
   "outputs": [
    {
     "data": {
      "text/plain": [
       "('15)', '15)')"
      ]
     },
     "execution_count": 100,
     "metadata": {},
     "output_type": "execute_result"
    }
   ],
   "source": [
    "isfound[0]"
   ]
  },
  {
   "cell_type": "code",
   "execution_count": 140,
   "metadata": {},
   "outputs": [],
   "source": [
    "string = \"\"\"\n",
    "Answer: The steps to take when finding projects to build your experience are as follows:\n",
    "1. Identify a business problem (not an AI problem) and ask domain experts about the top three things they wish worked better. (Page Number: 15)\n",
    "2. Brainstorm potential AI solutions for the identified problem. (Page Number: 15)\n",
    "3. Join existing projects by collaborating with someone who already has an idea. (Page Number: 18)\n",
    "4. Keep reading, taking courses, and talking to domain experts to generate new project ideas. (Page Number: 18)\n",
    "5. Focus on an application area that has not yet been explored with machine learning. (Page Number: 18)\n",
    "\n",
    "Page Number->15\n",
    "\"\"\""
   ]
  },
  {
   "cell_type": "code",
   "execution_count": 141,
   "metadata": {},
   "outputs": [
    {
     "ename": "error",
     "evalue": "nothing to repeat at position 14",
     "output_type": "error",
     "traceback": [
      "\u001b[0;31m---------------------------------------------------------------------------\u001b[0m",
      "\u001b[0;31merror\u001b[0m                                     Traceback (most recent call last)",
      "Cell \u001b[0;32mIn[141], line 9\u001b[0m\n\u001b[1;32m      6\u001b[0m pattern \u001b[38;5;241m=\u001b[39m \u001b[38;5;124m\"\u001b[39m\u001b[38;5;124mPage Number->(*)\u001b[39m\u001b[38;5;124m\"\u001b[39m\n\u001b[1;32m      8\u001b[0m \u001b[38;5;66;03m# Find all matches of the pattern in the string\u001b[39;00m\n\u001b[0;32m----> 9\u001b[0m matches \u001b[38;5;241m=\u001b[39m \u001b[43mre\u001b[49m\u001b[38;5;241;43m.\u001b[39;49m\u001b[43mfindall\u001b[49m\u001b[43m(\u001b[49m\u001b[43mpattern\u001b[49m\u001b[43m,\u001b[49m\u001b[43m \u001b[49m\u001b[43mstring\u001b[49m\u001b[43m)\u001b[49m\n\u001b[1;32m     11\u001b[0m \u001b[38;5;66;03m# Extract the numbers from the matches\u001b[39;00m\n\u001b[1;32m     12\u001b[0m numbers \u001b[38;5;241m=\u001b[39m [match \u001b[38;5;28;01mfor\u001b[39;00m match \u001b[38;5;129;01min\u001b[39;00m matches[\u001b[38;5;241m0\u001b[39m]]\n",
      "File \u001b[0;32m/opt/homebrew/Caskroom/miniforge/base/envs/torch/lib/python3.11/re/__init__.py:216\u001b[0m, in \u001b[0;36mfindall\u001b[0;34m(pattern, string, flags)\u001b[0m\n\u001b[1;32m    208\u001b[0m \u001b[38;5;28;01mdef\u001b[39;00m \u001b[38;5;21mfindall\u001b[39m(pattern, string, flags\u001b[38;5;241m=\u001b[39m\u001b[38;5;241m0\u001b[39m):\n\u001b[1;32m    209\u001b[0m \u001b[38;5;250m    \u001b[39m\u001b[38;5;124;03m\"\"\"Return a list of all non-overlapping matches in the string.\u001b[39;00m\n\u001b[1;32m    210\u001b[0m \n\u001b[1;32m    211\u001b[0m \u001b[38;5;124;03m    If one or more capturing groups are present in the pattern, return\u001b[39;00m\n\u001b[0;32m   (...)\u001b[0m\n\u001b[1;32m    214\u001b[0m \n\u001b[1;32m    215\u001b[0m \u001b[38;5;124;03m    Empty matches are included in the result.\"\"\"\u001b[39;00m\n\u001b[0;32m--> 216\u001b[0m     \u001b[38;5;28;01mreturn\u001b[39;00m \u001b[43m_compile\u001b[49m\u001b[43m(\u001b[49m\u001b[43mpattern\u001b[49m\u001b[43m,\u001b[49m\u001b[43m \u001b[49m\u001b[43mflags\u001b[49m\u001b[43m)\u001b[49m\u001b[38;5;241m.\u001b[39mfindall(string)\n",
      "File \u001b[0;32m/opt/homebrew/Caskroom/miniforge/base/envs/torch/lib/python3.11/re/__init__.py:294\u001b[0m, in \u001b[0;36m_compile\u001b[0;34m(pattern, flags)\u001b[0m\n\u001b[1;32m    288\u001b[0m     \u001b[38;5;28;01mimport\u001b[39;00m \u001b[38;5;21;01mwarnings\u001b[39;00m\n\u001b[1;32m    289\u001b[0m     warnings\u001b[38;5;241m.\u001b[39mwarn(\u001b[38;5;124m\"\u001b[39m\u001b[38;5;124mThe re.TEMPLATE/re.T flag is deprecated \u001b[39m\u001b[38;5;124m\"\u001b[39m\n\u001b[1;32m    290\u001b[0m               \u001b[38;5;124m\"\u001b[39m\u001b[38;5;124mas it is an undocumented flag \u001b[39m\u001b[38;5;124m\"\u001b[39m\n\u001b[1;32m    291\u001b[0m               \u001b[38;5;124m\"\u001b[39m\u001b[38;5;124mwithout an obvious purpose. \u001b[39m\u001b[38;5;124m\"\u001b[39m\n\u001b[1;32m    292\u001b[0m               \u001b[38;5;124m\"\u001b[39m\u001b[38;5;124mDon\u001b[39m\u001b[38;5;124m'\u001b[39m\u001b[38;5;124mt use it.\u001b[39m\u001b[38;5;124m\"\u001b[39m,\n\u001b[1;32m    293\u001b[0m               \u001b[38;5;167;01mDeprecationWarning\u001b[39;00m)\n\u001b[0;32m--> 294\u001b[0m p \u001b[38;5;241m=\u001b[39m \u001b[43m_compiler\u001b[49m\u001b[38;5;241;43m.\u001b[39;49m\u001b[43mcompile\u001b[49m\u001b[43m(\u001b[49m\u001b[43mpattern\u001b[49m\u001b[43m,\u001b[49m\u001b[43m \u001b[49m\u001b[43mflags\u001b[49m\u001b[43m)\u001b[49m\n\u001b[1;32m    295\u001b[0m \u001b[38;5;28;01mif\u001b[39;00m \u001b[38;5;129;01mnot\u001b[39;00m (flags \u001b[38;5;241m&\u001b[39m DEBUG):\n\u001b[1;32m    296\u001b[0m     \u001b[38;5;28;01mif\u001b[39;00m \u001b[38;5;28mlen\u001b[39m(_cache) \u001b[38;5;241m>\u001b[39m\u001b[38;5;241m=\u001b[39m _MAXCACHE:\n\u001b[1;32m    297\u001b[0m         \u001b[38;5;66;03m# Drop the oldest item\u001b[39;00m\n",
      "File \u001b[0;32m/opt/homebrew/Caskroom/miniforge/base/envs/torch/lib/python3.11/re/_compiler.py:743\u001b[0m, in \u001b[0;36mcompile\u001b[0;34m(p, flags)\u001b[0m\n\u001b[1;32m    741\u001b[0m \u001b[38;5;28;01mif\u001b[39;00m isstring(p):\n\u001b[1;32m    742\u001b[0m     pattern \u001b[38;5;241m=\u001b[39m p\n\u001b[0;32m--> 743\u001b[0m     p \u001b[38;5;241m=\u001b[39m \u001b[43m_parser\u001b[49m\u001b[38;5;241;43m.\u001b[39;49m\u001b[43mparse\u001b[49m\u001b[43m(\u001b[49m\u001b[43mp\u001b[49m\u001b[43m,\u001b[49m\u001b[43m \u001b[49m\u001b[43mflags\u001b[49m\u001b[43m)\u001b[49m\n\u001b[1;32m    744\u001b[0m \u001b[38;5;28;01melse\u001b[39;00m:\n\u001b[1;32m    745\u001b[0m     pattern \u001b[38;5;241m=\u001b[39m \u001b[38;5;28;01mNone\u001b[39;00m\n",
      "File \u001b[0;32m/opt/homebrew/Caskroom/miniforge/base/envs/torch/lib/python3.11/re/_parser.py:980\u001b[0m, in \u001b[0;36mparse\u001b[0;34m(str, flags, state)\u001b[0m\n\u001b[1;32m    977\u001b[0m state\u001b[38;5;241m.\u001b[39mflags \u001b[38;5;241m=\u001b[39m flags\n\u001b[1;32m    978\u001b[0m state\u001b[38;5;241m.\u001b[39mstr \u001b[38;5;241m=\u001b[39m \u001b[38;5;28mstr\u001b[39m\n\u001b[0;32m--> 980\u001b[0m p \u001b[38;5;241m=\u001b[39m \u001b[43m_parse_sub\u001b[49m\u001b[43m(\u001b[49m\u001b[43msource\u001b[49m\u001b[43m,\u001b[49m\u001b[43m \u001b[49m\u001b[43mstate\u001b[49m\u001b[43m,\u001b[49m\u001b[43m \u001b[49m\u001b[43mflags\u001b[49m\u001b[43m \u001b[49m\u001b[38;5;241;43m&\u001b[39;49m\u001b[43m \u001b[49m\u001b[43mSRE_FLAG_VERBOSE\u001b[49m\u001b[43m,\u001b[49m\u001b[43m \u001b[49m\u001b[38;5;241;43m0\u001b[39;49m\u001b[43m)\u001b[49m\n\u001b[1;32m    981\u001b[0m p\u001b[38;5;241m.\u001b[39mstate\u001b[38;5;241m.\u001b[39mflags \u001b[38;5;241m=\u001b[39m fix_flags(\u001b[38;5;28mstr\u001b[39m, p\u001b[38;5;241m.\u001b[39mstate\u001b[38;5;241m.\u001b[39mflags)\n\u001b[1;32m    983\u001b[0m \u001b[38;5;28;01mif\u001b[39;00m source\u001b[38;5;241m.\u001b[39mnext \u001b[38;5;129;01mis\u001b[39;00m \u001b[38;5;129;01mnot\u001b[39;00m \u001b[38;5;28;01mNone\u001b[39;00m:\n",
      "File \u001b[0;32m/opt/homebrew/Caskroom/miniforge/base/envs/torch/lib/python3.11/re/_parser.py:455\u001b[0m, in \u001b[0;36m_parse_sub\u001b[0;34m(source, state, verbose, nested)\u001b[0m\n\u001b[1;32m    453\u001b[0m start \u001b[38;5;241m=\u001b[39m source\u001b[38;5;241m.\u001b[39mtell()\n\u001b[1;32m    454\u001b[0m \u001b[38;5;28;01mwhile\u001b[39;00m \u001b[38;5;28;01mTrue\u001b[39;00m:\n\u001b[0;32m--> 455\u001b[0m     itemsappend(\u001b[43m_parse\u001b[49m\u001b[43m(\u001b[49m\u001b[43msource\u001b[49m\u001b[43m,\u001b[49m\u001b[43m \u001b[49m\u001b[43mstate\u001b[49m\u001b[43m,\u001b[49m\u001b[43m \u001b[49m\u001b[43mverbose\u001b[49m\u001b[43m,\u001b[49m\u001b[43m \u001b[49m\u001b[43mnested\u001b[49m\u001b[43m \u001b[49m\u001b[38;5;241;43m+\u001b[39;49m\u001b[43m \u001b[49m\u001b[38;5;241;43m1\u001b[39;49m\u001b[43m,\u001b[49m\n\u001b[1;32m    456\u001b[0m \u001b[43m                       \u001b[49m\u001b[38;5;129;43;01mnot\u001b[39;49;00m\u001b[43m \u001b[49m\u001b[43mnested\u001b[49m\u001b[43m \u001b[49m\u001b[38;5;129;43;01mand\u001b[39;49;00m\u001b[43m \u001b[49m\u001b[38;5;129;43;01mnot\u001b[39;49;00m\u001b[43m \u001b[49m\u001b[43mitems\u001b[49m\u001b[43m)\u001b[49m)\n\u001b[1;32m    457\u001b[0m     \u001b[38;5;28;01mif\u001b[39;00m \u001b[38;5;129;01mnot\u001b[39;00m sourcematch(\u001b[38;5;124m\"\u001b[39m\u001b[38;5;124m|\u001b[39m\u001b[38;5;124m\"\u001b[39m):\n\u001b[1;32m    458\u001b[0m         \u001b[38;5;28;01mbreak\u001b[39;00m\n",
      "File \u001b[0;32m/opt/homebrew/Caskroom/miniforge/base/envs/torch/lib/python3.11/re/_parser.py:863\u001b[0m, in \u001b[0;36m_parse\u001b[0;34m(source, state, verbose, nested, first)\u001b[0m\n\u001b[1;32m    860\u001b[0m     group \u001b[38;5;241m=\u001b[39m \u001b[38;5;28;01mNone\u001b[39;00m\n\u001b[1;32m    861\u001b[0m sub_verbose \u001b[38;5;241m=\u001b[39m ((verbose \u001b[38;5;129;01mor\u001b[39;00m (add_flags \u001b[38;5;241m&\u001b[39m SRE_FLAG_VERBOSE)) \u001b[38;5;129;01mand\u001b[39;00m\n\u001b[1;32m    862\u001b[0m                \u001b[38;5;129;01mnot\u001b[39;00m (del_flags \u001b[38;5;241m&\u001b[39m SRE_FLAG_VERBOSE))\n\u001b[0;32m--> 863\u001b[0m p \u001b[38;5;241m=\u001b[39m \u001b[43m_parse_sub\u001b[49m\u001b[43m(\u001b[49m\u001b[43msource\u001b[49m\u001b[43m,\u001b[49m\u001b[43m \u001b[49m\u001b[43mstate\u001b[49m\u001b[43m,\u001b[49m\u001b[43m \u001b[49m\u001b[43msub_verbose\u001b[49m\u001b[43m,\u001b[49m\u001b[43m \u001b[49m\u001b[43mnested\u001b[49m\u001b[43m \u001b[49m\u001b[38;5;241;43m+\u001b[39;49m\u001b[43m \u001b[49m\u001b[38;5;241;43m1\u001b[39;49m\u001b[43m)\u001b[49m\n\u001b[1;32m    864\u001b[0m \u001b[38;5;28;01mif\u001b[39;00m \u001b[38;5;129;01mnot\u001b[39;00m source\u001b[38;5;241m.\u001b[39mmatch(\u001b[38;5;124m\"\u001b[39m\u001b[38;5;124m)\u001b[39m\u001b[38;5;124m\"\u001b[39m):\n\u001b[1;32m    865\u001b[0m     \u001b[38;5;28;01mraise\u001b[39;00m source\u001b[38;5;241m.\u001b[39merror(\u001b[38;5;124m\"\u001b[39m\u001b[38;5;124mmissing ), unterminated subpattern\u001b[39m\u001b[38;5;124m\"\u001b[39m,\n\u001b[1;32m    866\u001b[0m                        source\u001b[38;5;241m.\u001b[39mtell() \u001b[38;5;241m-\u001b[39m start)\n",
      "File \u001b[0;32m/opt/homebrew/Caskroom/miniforge/base/envs/torch/lib/python3.11/re/_parser.py:455\u001b[0m, in \u001b[0;36m_parse_sub\u001b[0;34m(source, state, verbose, nested)\u001b[0m\n\u001b[1;32m    453\u001b[0m start \u001b[38;5;241m=\u001b[39m source\u001b[38;5;241m.\u001b[39mtell()\n\u001b[1;32m    454\u001b[0m \u001b[38;5;28;01mwhile\u001b[39;00m \u001b[38;5;28;01mTrue\u001b[39;00m:\n\u001b[0;32m--> 455\u001b[0m     itemsappend(\u001b[43m_parse\u001b[49m\u001b[43m(\u001b[49m\u001b[43msource\u001b[49m\u001b[43m,\u001b[49m\u001b[43m \u001b[49m\u001b[43mstate\u001b[49m\u001b[43m,\u001b[49m\u001b[43m \u001b[49m\u001b[43mverbose\u001b[49m\u001b[43m,\u001b[49m\u001b[43m \u001b[49m\u001b[43mnested\u001b[49m\u001b[43m \u001b[49m\u001b[38;5;241;43m+\u001b[39;49m\u001b[43m \u001b[49m\u001b[38;5;241;43m1\u001b[39;49m\u001b[43m,\u001b[49m\n\u001b[1;32m    456\u001b[0m \u001b[43m                       \u001b[49m\u001b[38;5;129;43;01mnot\u001b[39;49;00m\u001b[43m \u001b[49m\u001b[43mnested\u001b[49m\u001b[43m \u001b[49m\u001b[38;5;129;43;01mand\u001b[39;49;00m\u001b[43m \u001b[49m\u001b[38;5;129;43;01mnot\u001b[39;49;00m\u001b[43m \u001b[49m\u001b[43mitems\u001b[49m\u001b[43m)\u001b[49m)\n\u001b[1;32m    457\u001b[0m     \u001b[38;5;28;01mif\u001b[39;00m \u001b[38;5;129;01mnot\u001b[39;00m sourcematch(\u001b[38;5;124m\"\u001b[39m\u001b[38;5;124m|\u001b[39m\u001b[38;5;124m\"\u001b[39m):\n\u001b[1;32m    458\u001b[0m         \u001b[38;5;28;01mbreak\u001b[39;00m\n",
      "File \u001b[0;32m/opt/homebrew/Caskroom/miniforge/base/envs/torch/lib/python3.11/re/_parser.py:682\u001b[0m, in \u001b[0;36m_parse\u001b[0;34m(source, state, verbose, nested, first)\u001b[0m\n\u001b[1;32m    680\u001b[0m     item \u001b[38;5;241m=\u001b[39m \u001b[38;5;28;01mNone\u001b[39;00m\n\u001b[1;32m    681\u001b[0m \u001b[38;5;28;01mif\u001b[39;00m \u001b[38;5;129;01mnot\u001b[39;00m item \u001b[38;5;129;01mor\u001b[39;00m item[\u001b[38;5;241m0\u001b[39m][\u001b[38;5;241m0\u001b[39m] \u001b[38;5;129;01mis\u001b[39;00m AT:\n\u001b[0;32m--> 682\u001b[0m     \u001b[38;5;28;01mraise\u001b[39;00m source\u001b[38;5;241m.\u001b[39merror(\u001b[38;5;124m\"\u001b[39m\u001b[38;5;124mnothing to repeat\u001b[39m\u001b[38;5;124m\"\u001b[39m,\n\u001b[1;32m    683\u001b[0m                        source\u001b[38;5;241m.\u001b[39mtell() \u001b[38;5;241m-\u001b[39m here \u001b[38;5;241m+\u001b[39m \u001b[38;5;28mlen\u001b[39m(this))\n\u001b[1;32m    684\u001b[0m \u001b[38;5;28;01mif\u001b[39;00m item[\u001b[38;5;241m0\u001b[39m][\u001b[38;5;241m0\u001b[39m] \u001b[38;5;129;01min\u001b[39;00m _REPEATCODES:\n\u001b[1;32m    685\u001b[0m     \u001b[38;5;28;01mraise\u001b[39;00m source\u001b[38;5;241m.\u001b[39merror(\u001b[38;5;124m\"\u001b[39m\u001b[38;5;124mmultiple repeat\u001b[39m\u001b[38;5;124m\"\u001b[39m,\n\u001b[1;32m    686\u001b[0m                        source\u001b[38;5;241m.\u001b[39mtell() \u001b[38;5;241m-\u001b[39m here \u001b[38;5;241m+\u001b[39m \u001b[38;5;28mlen\u001b[39m(this))\n",
      "\u001b[0;31merror\u001b[0m: nothing to repeat at position 14"
     ]
    }
   ],
   "source": [
    "import re\n",
    "\n",
    "# string = \"Page Number: (15, 18)\"\n",
    "\n",
    "# Define the regular expression pattern\n",
    "pattern = \"Page Number->(*)\"\n",
    "\n",
    "# Find all matches of the pattern in the string\n",
    "matches = re.findall(pattern, string)\n",
    "\n",
    "# Extract the numbers from the matches\n",
    "numbers = [match for match in matches[0]]\n",
    "\n",
    "# Print the numbers\n",
    "print(numbers)"
   ]
  },
  {
   "cell_type": "code",
   "execution_count": null,
   "metadata": {},
   "outputs": [],
   "source": []
  },
  {
   "cell_type": "code",
   "execution_count": null,
   "metadata": {},
   "outputs": [
    {
     "data": {
      "text/plain": [
       "[{'fileName': 'eBook-How-to-Build-a-Career-in-AI.pdf',\n",
       "  'textIdx': 17,\n",
       "  'pageLabel': '18',\n",
       "  'text': 'PAGE 18It goes without saying that we should only work on projects that are responsible, ethical, and \\nbeneficial to people. But those limits leave a large variety to choose from. In the previous chapter, \\nI wrote about how to identify and scope AI projects. This chapter and the next have a slightly \\ndifferent emphasis: picking and executing projects with an eye toward career development.\\nA fruitful career will include many projects, hopefully growing in scope, complexity, and impact \\nover time. Thus, it is fine to start small. Use early projects to learn and gradually step up to \\nbigger projects as your skills grow.\\nWhen you’re starting out, don’t expect others to hand great ideas or resources to you on a platter. \\nMany people start by working on small projects in their spare time. With initial successes — even \\nsmall ones — under your belt, your growing skills increase your ability to come up with better \\nideas, and it becomes easier to persuade others to help you step up to bigger projects.Finding Projects that Compliment Your Career Goals CHAPTER 5\\nJoin existing projects. If you find someone else with an idea, ask to join their project.\\nKeep reading and talking to people. I come up with new ideas whenever I spend a lot of \\ntime reading, taking courses, or talking with domain experts. I’m confident that you will, too.\\nFocus on an application area. Many researchers are trying to advance basic AI technology \\n— say, by inventing the next generation of transformers or further scaling up language \\nmodels — so, while this is an exciting direction, it is also very hard. But the variety of \\napplications to which machine learning has not yet been applied is vast! I’m fortunate to \\nhave been able to apply neural networks to everything from autonomous helicopter flight to \\nonline advertising, partly because I jumped in when relatively few people were working on \\nthose applications. If your company or school cares about a particular application, explore \\nthe possibilities for machine learning. That can give you a first look at a potentially creative \\napplication — one where you can do unique work — that no one else has done yet.✓\\n✓\\n✓What if you don’t have any project ideas?\\nHere are a few ways to generate them:',\n",
       "  'score': 0.8813259601593018},\n",
       " {'fileName': 'eBook-How-to-Build-a-Career-in-AI.pdf',\n",
       "  'textIdx': 17,\n",
       "  'pageLabel': '18',\n",
       "  'text': 'PAGE 18It goes without saying that we should only work on projects that are responsible, ethical, and \\nbeneficial to people. But those limits leave a large variety to choose from. In the previous chapter, \\nI wrote about how to identify and scope AI projects. This chapter and the next have a slightly \\ndifferent emphasis: picking and executing projects with an eye toward career development.\\nA fruitful career will include many projects, hopefully growing in scope, complexity, and impact \\nover time. Thus, it is fine to start small. Use early projects to learn and gradually step up to \\nbigger projects as your skills grow.\\nWhen you’re starting out, don’t expect others to hand great ideas or resources to you on a platter. \\nMany people start by working on small projects in their spare time. With initial successes — even \\nsmall ones — under your belt, your growing skills increase your ability to come up with better \\nideas, and it becomes easier to persuade others to help you step up to bigger projects.Finding Projects that Compliment Your Career Goals CHAPTER 5\\nJoin existing projects. If you find someone else with an idea, ask to join their project.\\nKeep reading and talking to people. I come up with new ideas whenever I spend a lot of \\ntime reading, taking courses, or talking with domain experts. I’m confident that you will, too.\\nFocus on an application area. Many researchers are trying to advance basic AI technology \\n— say, by inventing the next generation of transformers or further scaling up language \\nmodels — so, while this is an exciting direction, it is also very hard. But the variety of \\napplications to which machine learning has not yet been applied is vast! I’m fortunate to \\nhave been able to apply neural networks to everything from autonomous helicopter flight to \\nonline advertising, partly because I jumped in when relatively few people were working on \\nthose applications. If your company or school cares about a particular application, explore \\nthe possibilities for machine learning. That can give you a first look at a potentially creative \\napplication — one where you can do unique work — that no one else has done yet.✓\\n✓\\n✓What if you don’t have any project ideas?\\nHere are a few ways to generate them:',\n",
       "  'score': 0.881325900554657},\n",
       " {'fileName': 'eBook-How-to-Build-a-Career-in-AI.pdf',\n",
       "  'textIdx': 14,\n",
       "  'pageLabel': '15',\n",
       "  'text': 'PAGE 15One of the most important skills of an AI architect is the ability to identify ideas that are worth \\nworking on. These next few chapters will discuss finding and working on projects so you can gain \\nexperience and build your portfolio. \\nOver the years, I’ve had fun applying machine learning to manufacturing, healthcare, climate \\nchange, agriculture, ecommerce, advertising, and other industries. How can someone who’s not \\nan expert in all these sectors find meaningful projects within them? Here are five steps to help \\nyou scope projects.\\nIdentify a business problem (not an AI problem). I like to find \\na domain expert and ask, “What are the top three things \\nthat you wish worked better? Why aren’t they working yet?” \\nFor example, if you want to apply AI to climate change, you \\nmight discover that power-grid operators can’t accurately \\npredict how much power intermittent sources like wind \\nand solar might generate in the future.\\nBrainstorm AI solutions. When I was younger, I used to \\nexecute on the first idea I was excited about. Sometimes \\nthis worked out okay, but sometimes I ended up missing \\nan even better idea that might not have taken any more \\neffort to build. Once you understand a problem, you can \\nbrainstorm potential solutions more efficiently. For instance, \\nto predict power generation from intermittent sources, we \\nmight consider using satellite imagery to map the locations \\nof wind turbines more accurately, using satellite imagery \\nto estimate the height and generation capacity of wind \\nturbines, or using weather data to better predict cloud cover \\nand thus solar irradiance. Sometimes there isn’t a good AI \\nsolution, and that’s okay too.Scoping Successful AI Projects CHAPTER 4\\nStep 1\\nStep 2\\n',\n",
       "  'score': 0.874617338180542},\n",
       " {'fileName': 'eBook-How-to-Build-a-Career-in-AI.pdf',\n",
       "  'textIdx': 14,\n",
       "  'pageLabel': '15',\n",
       "  'text': 'PAGE 15One of the most important skills of an AI architect is the ability to identify ideas that are worth \\nworking on. These next few chapters will discuss finding and working on projects so you can gain \\nexperience and build your portfolio. \\nOver the years, I’ve had fun applying machine learning to manufacturing, healthcare, climate \\nchange, agriculture, ecommerce, advertising, and other industries. How can someone who’s not \\nan expert in all these sectors find meaningful projects within them? Here are five steps to help \\nyou scope projects.\\nIdentify a business problem (not an AI problem). I like to find \\na domain expert and ask, “What are the top three things \\nthat you wish worked better? Why aren’t they working yet?” \\nFor example, if you want to apply AI to climate change, you \\nmight discover that power-grid operators can’t accurately \\npredict how much power intermittent sources like wind \\nand solar might generate in the future.\\nBrainstorm AI solutions. When I was younger, I used to \\nexecute on the first idea I was excited about. Sometimes \\nthis worked out okay, but sometimes I ended up missing \\nan even better idea that might not have taken any more \\neffort to build. Once you understand a problem, you can \\nbrainstorm potential solutions more efficiently. For instance, \\nto predict power generation from intermittent sources, we \\nmight consider using satellite imagery to map the locations \\nof wind turbines more accurately, using satellite imagery \\nto estimate the height and generation capacity of wind \\nturbines, or using weather data to better predict cloud cover \\nand thus solar irradiance. Sometimes there isn’t a good AI \\nsolution, and that’s okay too.Scoping Successful AI Projects CHAPTER 4\\nStep 1\\nStep 2\\n',\n",
       "  'score': 0.874617338180542},\n",
       " {'fileName': 'eBook-How-to-Build-a-Career-in-AI.pdf',\n",
       "  'textIdx': 5,\n",
       "  'pageLabel': '6',\n",
       "  'text': 'PAGE 6The rapid rise of AI has led to a rapid rise in AI jobs, and many people are building exciting \\ncareers in this field. A career is a decades-long journey, and the path is not straightforward. \\nOver many years, I’ve been privileged to see thousands of students, as well as engineers in \\ncompanies large and small, navigate careers in AI.\\n \\nHere’s a framework for charting your own course.\\nLater, you will work \\non finding a job. \\nThroughout this \\nprocess, you’ll continue \\nto learn and work on \\nmeaningful projects. \\nChapters with the\\nfocus on a job search.Three key steps of career growth are learning foundational skills, working on projects (to \\ndeepen your skills, build a portfolio, and create impact), and finding a job. These steps stack \\non top of each other:Three Steps to Career Growth\\nLEARNING PROJECTS JOBCHAPTER 1\\nInitially, you \\nfocus on learning \\nfoundational skills. \\nChapters with the \\ncover topics about \\nlearning foundational \\ntechnical skills. After having gained \\nfoundational technical \\nskills, you will begin \\nworking on projects. \\nDuring this period, you’ll \\nalso keep learning. \\nChapters with the     \\nfocus on projects. ',\n",
       "  'score': 0.8706563711166382}]"
      ]
     },
     "metadata": {},
     "output_type": "display_data"
    }
   ],
   "source": [
    "retrieved_results"
   ]
  },
  {
   "cell_type": "code",
   "execution_count": null,
   "metadata": {},
   "outputs": [
    {
     "data": {
      "text/plain": [
       "[{'fileName': 'eBook-How-to-Build-a-Career-in-AI.pdf',\n",
       "  'textIdx': 17,\n",
       "  'pageLabel': '18',\n",
       "  'text': 'PAGE 18It goes without saying that we should only work on projects that are responsible, ethical, and \\nbeneficial to people. But those limits leave a large variety to choose from. In the previous chapter, \\nI wrote about how to identify and scope AI projects. This chapter and the next have a slightly \\ndifferent emphasis: picking and executing projects with an eye toward career development.\\nA fruitful career will include many projects, hopefully growing in scope, complexity, and impact \\nover time. Thus, it is fine to start small. Use early projects to learn and gradually step up to \\nbigger projects as your skills grow.\\nWhen you’re starting out, don’t expect others to hand great ideas or resources to you on a platter. \\nMany people start by working on small projects in their spare time. With initial successes — even \\nsmall ones — under your belt, your growing skills increase your ability to come up with better \\nideas, and it becomes easier to persuade others to help you step up to bigger projects.Finding Projects that Compliment Your Career Goals CHAPTER 5\\nJoin existing projects. If you find someone else with an idea, ask to join their project.\\nKeep reading and talking to people. I come up with new ideas whenever I spend a lot of \\ntime reading, taking courses, or talking with domain experts. I’m confident that you will, too.\\nFocus on an application area. Many researchers are trying to advance basic AI technology \\n— say, by inventing the next generation of transformers or further scaling up language \\nmodels — so, while this is an exciting direction, it is also very hard. But the variety of \\napplications to which machine learning has not yet been applied is vast! I’m fortunate to \\nhave been able to apply neural networks to everything from autonomous helicopter flight to \\nonline advertising, partly because I jumped in when relatively few people were working on \\nthose applications. If your company or school cares about a particular application, explore \\nthe possibilities for machine learning. That can give you a first look at a potentially creative \\napplication — one where you can do unique work — that no one else has done yet.✓\\n✓\\n✓What if you don’t have any project ideas?\\nHere are a few ways to generate them:',\n",
       "  'score': 0.8813259601593018},\n",
       " {'fileName': 'eBook-How-to-Build-a-Career-in-AI.pdf',\n",
       "  'textIdx': 17,\n",
       "  'pageLabel': '18',\n",
       "  'text': 'PAGE 18It goes without saying that we should only work on projects that are responsible, ethical, and \\nbeneficial to people. But those limits leave a large variety to choose from. In the previous chapter, \\nI wrote about how to identify and scope AI projects. This chapter and the next have a slightly \\ndifferent emphasis: picking and executing projects with an eye toward career development.\\nA fruitful career will include many projects, hopefully growing in scope, complexity, and impact \\nover time. Thus, it is fine to start small. Use early projects to learn and gradually step up to \\nbigger projects as your skills grow.\\nWhen you’re starting out, don’t expect others to hand great ideas or resources to you on a platter. \\nMany people start by working on small projects in their spare time. With initial successes — even \\nsmall ones — under your belt, your growing skills increase your ability to come up with better \\nideas, and it becomes easier to persuade others to help you step up to bigger projects.Finding Projects that Compliment Your Career Goals CHAPTER 5\\nJoin existing projects. If you find someone else with an idea, ask to join their project.\\nKeep reading and talking to people. I come up with new ideas whenever I spend a lot of \\ntime reading, taking courses, or talking with domain experts. I’m confident that you will, too.\\nFocus on an application area. Many researchers are trying to advance basic AI technology \\n— say, by inventing the next generation of transformers or further scaling up language \\nmodels — so, while this is an exciting direction, it is also very hard. But the variety of \\napplications to which machine learning has not yet been applied is vast! I’m fortunate to \\nhave been able to apply neural networks to everything from autonomous helicopter flight to \\nonline advertising, partly because I jumped in when relatively few people were working on \\nthose applications. If your company or school cares about a particular application, explore \\nthe possibilities for machine learning. That can give you a first look at a potentially creative \\napplication — one where you can do unique work — that no one else has done yet.✓\\n✓\\n✓What if you don’t have any project ideas?\\nHere are a few ways to generate them:',\n",
       "  'score': 0.881325900554657},\n",
       " {'fileName': 'eBook-How-to-Build-a-Career-in-AI.pdf',\n",
       "  'textIdx': 14,\n",
       "  'pageLabel': '15',\n",
       "  'text': 'PAGE 15One of the most important skills of an AI architect is the ability to identify ideas that are worth \\nworking on. These next few chapters will discuss finding and working on projects so you can gain \\nexperience and build your portfolio. \\nOver the years, I’ve had fun applying machine learning to manufacturing, healthcare, climate \\nchange, agriculture, ecommerce, advertising, and other industries. How can someone who’s not \\nan expert in all these sectors find meaningful projects within them? Here are five steps to help \\nyou scope projects.\\nIdentify a business problem (not an AI problem). I like to find \\na domain expert and ask, “What are the top three things \\nthat you wish worked better? Why aren’t they working yet?” \\nFor example, if you want to apply AI to climate change, you \\nmight discover that power-grid operators can’t accurately \\npredict how much power intermittent sources like wind \\nand solar might generate in the future.\\nBrainstorm AI solutions. When I was younger, I used to \\nexecute on the first idea I was excited about. Sometimes \\nthis worked out okay, but sometimes I ended up missing \\nan even better idea that might not have taken any more \\neffort to build. Once you understand a problem, you can \\nbrainstorm potential solutions more efficiently. For instance, \\nto predict power generation from intermittent sources, we \\nmight consider using satellite imagery to map the locations \\nof wind turbines more accurately, using satellite imagery \\nto estimate the height and generation capacity of wind \\nturbines, or using weather data to better predict cloud cover \\nand thus solar irradiance. Sometimes there isn’t a good AI \\nsolution, and that’s okay too.Scoping Successful AI Projects CHAPTER 4\\nStep 1\\nStep 2\\n',\n",
       "  'score': 0.874617338180542},\n",
       " {'fileName': 'eBook-How-to-Build-a-Career-in-AI.pdf',\n",
       "  'textIdx': 14,\n",
       "  'pageLabel': '15',\n",
       "  'text': 'PAGE 15One of the most important skills of an AI architect is the ability to identify ideas that are worth \\nworking on. These next few chapters will discuss finding and working on projects so you can gain \\nexperience and build your portfolio. \\nOver the years, I’ve had fun applying machine learning to manufacturing, healthcare, climate \\nchange, agriculture, ecommerce, advertising, and other industries. How can someone who’s not \\nan expert in all these sectors find meaningful projects within them? Here are five steps to help \\nyou scope projects.\\nIdentify a business problem (not an AI problem). I like to find \\na domain expert and ask, “What are the top three things \\nthat you wish worked better? Why aren’t they working yet?” \\nFor example, if you want to apply AI to climate change, you \\nmight discover that power-grid operators can’t accurately \\npredict how much power intermittent sources like wind \\nand solar might generate in the future.\\nBrainstorm AI solutions. When I was younger, I used to \\nexecute on the first idea I was excited about. Sometimes \\nthis worked out okay, but sometimes I ended up missing \\nan even better idea that might not have taken any more \\neffort to build. Once you understand a problem, you can \\nbrainstorm potential solutions more efficiently. For instance, \\nto predict power generation from intermittent sources, we \\nmight consider using satellite imagery to map the locations \\nof wind turbines more accurately, using satellite imagery \\nto estimate the height and generation capacity of wind \\nturbines, or using weather data to better predict cloud cover \\nand thus solar irradiance. Sometimes there isn’t a good AI \\nsolution, and that’s okay too.Scoping Successful AI Projects CHAPTER 4\\nStep 1\\nStep 2\\n',\n",
       "  'score': 0.874617338180542},\n",
       " {'fileName': 'eBook-How-to-Build-a-Career-in-AI.pdf',\n",
       "  'textIdx': 5,\n",
       "  'pageLabel': '6',\n",
       "  'text': 'PAGE 6The rapid rise of AI has led to a rapid rise in AI jobs, and many people are building exciting \\ncareers in this field. A career is a decades-long journey, and the path is not straightforward. \\nOver many years, I’ve been privileged to see thousands of students, as well as engineers in \\ncompanies large and small, navigate careers in AI.\\n \\nHere’s a framework for charting your own course.\\nLater, you will work \\non finding a job. \\nThroughout this \\nprocess, you’ll continue \\nto learn and work on \\nmeaningful projects. \\nChapters with the\\nfocus on a job search.Three key steps of career growth are learning foundational skills, working on projects (to \\ndeepen your skills, build a portfolio, and create impact), and finding a job. These steps stack \\non top of each other:Three Steps to Career Growth\\nLEARNING PROJECTS JOBCHAPTER 1\\nInitially, you \\nfocus on learning \\nfoundational skills. \\nChapters with the \\ncover topics about \\nlearning foundational \\ntechnical skills. After having gained \\nfoundational technical \\nskills, you will begin \\nworking on projects. \\nDuring this period, you’ll \\nalso keep learning. \\nChapters with the     \\nfocus on projects. ',\n",
       "  'score': 0.8706563711166382}]"
      ]
     },
     "metadata": {},
     "output_type": "display_data"
    }
   ],
   "source": [
    "retrieved_results"
   ]
  },
  {
   "cell_type": "code",
   "execution_count": null,
   "metadata": {},
   "outputs": [],
   "source": [
    "impo"
   ]
  },
  {
   "cell_type": "markdown",
   "metadata": {},
   "source": []
  },
  {
   "cell_type": "code",
   "execution_count": null,
   "metadata": {},
   "outputs": [],
   "source": []
  },
  {
   "cell_type": "code",
   "execution_count": 20,
   "metadata": {},
   "outputs": [
    {
     "name": "stdout",
     "output_type": "stream",
     "text": [
      "ChatCompletionChunk(id='chatcmpl-8ZOir71ajdlfmAYaP1ZcVCkpOc7qd', choices=[Choice(delta=ChoiceDelta(content='', function_call=None, role='assistant', tool_calls=None), finish_reason=None, index=0, logprobs=None)], created=1703447205, model='gpt-3.5-turbo-0613', object='chat.completion.chunk', system_fingerprint=None)\n",
      "\n",
      "ChatCompletionChunk(id='chatcmpl-8ZOir71ajdlfmAYaP1ZcVCkpOc7qd', choices=[Choice(delta=ChoiceDelta(content='2', function_call=None, role=None, tool_calls=None), finish_reason=None, index=0, logprobs=None)], created=1703447205, model='gpt-3.5-turbo-0613', object='chat.completion.chunk', system_fingerprint=None)\n",
      "2\n",
      "ChatCompletionChunk(id='chatcmpl-8ZOir71ajdlfmAYaP1ZcVCkpOc7qd', choices=[Choice(delta=ChoiceDelta(content=None, function_call=None, role=None, tool_calls=None), finish_reason='stop', index=0, logprobs=None)], created=1703447205, model='gpt-3.5-turbo-0613', object='chat.completion.chunk', system_fingerprint=None)\n",
      "None\n"
     ]
    }
   ],
   "source": [
    "contents = []\n",
    "for chunk in completion:\n",
    "    print(chunk)\n",
    "    print(chunk.choices[0].delta.content)\n",
    "    contents.append(chunk.choices[0].delta.content)\n",
    "    # print(\"****************\")"
   ]
  },
  {
   "cell_type": "code",
   "execution_count": 21,
   "metadata": {},
   "outputs": [
    {
     "data": {
      "text/plain": [
       "['', '2', None]"
      ]
     },
     "execution_count": 21,
     "metadata": {},
     "output_type": "execute_result"
    }
   ],
   "source": [
    "contents"
   ]
  },
  {
   "cell_type": "code",
   "execution_count": 29,
   "metadata": {},
   "outputs": [
    {
     "ename": "APIRemovedInV1",
     "evalue": "\n\nYou tried to access openai.Completion, but this is no longer supported in openai>=1.0.0 - see the README at https://github.com/openai/openai-python for the API.\n\nYou can run `openai migrate` to automatically upgrade your codebase to use the 1.0.0 interface. \n\nAlternatively, you can pin your installation to the old version, e.g. `pip install openai==0.28`\n\nA detailed migration guide is available here: https://github.com/openai/openai-python/discussions/742\n",
     "output_type": "error",
     "traceback": [
      "\u001b[0;31m---------------------------------------------------------------------------\u001b[0m",
      "\u001b[0;31mAPIRemovedInV1\u001b[0m                            Traceback (most recent call last)",
      "Cell \u001b[0;32mIn[29], line 25\u001b[0m\n\u001b[1;32m     22\u001b[0m combined_prompt \u001b[38;5;241m=\u001b[39m \u001b[38;5;124mf\u001b[39m\u001b[38;5;124m\"\u001b[39m\u001b[38;5;132;01m{\u001b[39;00mprompt\u001b[38;5;132;01m}\u001b[39;00m\u001b[38;5;130;01m\\n\u001b[39;00m\u001b[38;5;130;01m\\n\u001b[39;00m\u001b[38;5;124mQuestion: \u001b[39m\u001b[38;5;132;01m{\u001b[39;00mquestion\u001b[38;5;132;01m}\u001b[39;00m\u001b[38;5;130;01m\\n\u001b[39;00m\u001b[38;5;124mRetrieved Sentences:\u001b[39m\u001b[38;5;130;01m\\n\u001b[39;00m\u001b[38;5;132;01m{\u001b[39;00mretrieved_sentences[\u001b[38;5;241m0\u001b[39m]\u001b[38;5;132;01m}\u001b[39;00m\u001b[38;5;130;01m\\n\u001b[39;00m\u001b[38;5;132;01m{\u001b[39;00mretrieved_sentences[\u001b[38;5;241m1\u001b[39m]\u001b[38;5;132;01m}\u001b[39;00m\u001b[38;5;130;01m\\n\u001b[39;00m\u001b[38;5;132;01m{\u001b[39;00mretrieved_sentences[\u001b[38;5;241m2\u001b[39m]\u001b[38;5;132;01m}\u001b[39;00m\u001b[38;5;130;01m\\n\u001b[39;00m\u001b[38;5;132;01m{\u001b[39;00mretrieved_sentences[\u001b[38;5;241m3\u001b[39m]\u001b[38;5;132;01m}\u001b[39;00m\u001b[38;5;130;01m\\n\u001b[39;00m\u001b[38;5;132;01m{\u001b[39;00mretrieved_sentences[\u001b[38;5;241m4\u001b[39m]\u001b[38;5;132;01m}\u001b[39;00m\u001b[38;5;130;01m\\n\u001b[39;00m\u001b[38;5;124m\"\u001b[39m\n\u001b[1;32m     24\u001b[0m \u001b[38;5;66;03m# Generate the answer using GPT-3\u001b[39;00m\n\u001b[0;32m---> 25\u001b[0m response \u001b[38;5;241m=\u001b[39m \u001b[43mopenai\u001b[49m\u001b[38;5;241;43m.\u001b[39;49m\u001b[43mCompletion\u001b[49m\u001b[38;5;241;43m.\u001b[39;49m\u001b[43mcreate\u001b[49m\u001b[43m(\u001b[49m\n\u001b[1;32m     26\u001b[0m \u001b[43m    \u001b[49m\u001b[43mengine\u001b[49m\u001b[38;5;241;43m=\u001b[39;49m\u001b[38;5;124;43m\"\u001b[39;49m\u001b[38;5;124;43mtext-davinci-003\u001b[39;49m\u001b[38;5;124;43m\"\u001b[39;49m\u001b[43m,\u001b[49m\n\u001b[1;32m     27\u001b[0m \u001b[43m    \u001b[49m\u001b[43mprompt\u001b[49m\u001b[38;5;241;43m=\u001b[39;49m\u001b[43mcombined_prompt\u001b[49m\u001b[43m,\u001b[49m\n\u001b[1;32m     28\u001b[0m \u001b[43m    \u001b[49m\u001b[43mmax_tokens\u001b[49m\u001b[38;5;241;43m=\u001b[39;49m\u001b[38;5;241;43m100\u001b[39;49m\u001b[43m,\u001b[49m\n\u001b[1;32m     29\u001b[0m \u001b[43m    \u001b[49m\u001b[43mn\u001b[49m\u001b[38;5;241;43m=\u001b[39;49m\u001b[38;5;241;43m1\u001b[39;49m\u001b[43m,\u001b[49m\n\u001b[1;32m     30\u001b[0m \u001b[43m    \u001b[49m\u001b[43mstop\u001b[49m\u001b[38;5;241;43m=\u001b[39;49m\u001b[38;5;28;43;01mNone\u001b[39;49;00m\u001b[43m,\u001b[49m\n\u001b[1;32m     31\u001b[0m \u001b[43m    \u001b[49m\u001b[43mtemperature\u001b[49m\u001b[38;5;241;43m=\u001b[39;49m\u001b[38;5;241;43m0.7\u001b[39;49m\u001b[43m,\u001b[49m\n\u001b[1;32m     32\u001b[0m \u001b[43m    \u001b[49m\u001b[43mtop_p\u001b[49m\u001b[38;5;241;43m=\u001b[39;49m\u001b[38;5;241;43m1.0\u001b[39;49m\u001b[43m,\u001b[49m\n\u001b[1;32m     33\u001b[0m \u001b[43m    \u001b[49m\u001b[43mfrequency_penalty\u001b[49m\u001b[38;5;241;43m=\u001b[39;49m\u001b[38;5;241;43m0.0\u001b[39;49m\u001b[43m,\u001b[49m\n\u001b[1;32m     34\u001b[0m \u001b[43m    \u001b[49m\u001b[43mpresence_penalty\u001b[49m\u001b[38;5;241;43m=\u001b[39;49m\u001b[38;5;241;43m0.0\u001b[39;49m\n\u001b[1;32m     35\u001b[0m \u001b[43m)\u001b[49m\n\u001b[1;32m     37\u001b[0m \u001b[38;5;66;03m# Extract and print the generated answer\u001b[39;00m\n\u001b[1;32m     38\u001b[0m answer \u001b[38;5;241m=\u001b[39m response\u001b[38;5;241m.\u001b[39mchoices[\u001b[38;5;241m0\u001b[39m]\u001b[38;5;241m.\u001b[39mtext\u001b[38;5;241m.\u001b[39mstrip()\n",
      "File \u001b[0;32m/opt/homebrew/Caskroom/miniforge/base/envs/torch/lib/python3.11/site-packages/openai/lib/_old_api.py:39\u001b[0m, in \u001b[0;36mAPIRemovedInV1Proxy.__call__\u001b[0;34m(self, *_args, **_kwargs)\u001b[0m\n\u001b[1;32m     38\u001b[0m \u001b[38;5;28;01mdef\u001b[39;00m \u001b[38;5;21m__call__\u001b[39m(\u001b[38;5;28mself\u001b[39m, \u001b[38;5;241m*\u001b[39m_args: Any, \u001b[38;5;241m*\u001b[39m\u001b[38;5;241m*\u001b[39m_kwargs: Any) \u001b[38;5;241m-\u001b[39m\u001b[38;5;241m>\u001b[39m Any:\n\u001b[0;32m---> 39\u001b[0m     \u001b[38;5;28;01mraise\u001b[39;00m APIRemovedInV1(symbol\u001b[38;5;241m=\u001b[39m\u001b[38;5;28mself\u001b[39m\u001b[38;5;241m.\u001b[39m_symbol)\n",
      "\u001b[0;31mAPIRemovedInV1\u001b[0m: \n\nYou tried to access openai.Completion, but this is no longer supported in openai>=1.0.0 - see the README at https://github.com/openai/openai-python for the API.\n\nYou can run `openai migrate` to automatically upgrade your codebase to use the 1.0.0 interface. \n\nAlternatively, you can pin your installation to the old version, e.g. `pip install openai==0.28`\n\nA detailed migration guide is available here: https://github.com/openai/openai-python/discussions/742\n"
     ]
    }
   ],
   "source": [
    "import openai\n",
    "\n",
    "# Set up your OpenAI API credentials\n",
    "openai.api_key = 'YOUR_API_KEY'\n",
    "\n",
    "# Define the prompt for your RAG application\n",
    "prompt = \"Given the top 5 retrieved document sentences, please generate a concise and accurate answer to the following question: [question]\"\n",
    "\n",
    "# Define the question you want to ask\n",
    "question = \"What is the capital city of France?\"\n",
    "\n",
    "# Define the retrieved document sentences\n",
    "retrieved_sentences = [\n",
    "    \"Paris is the capital and largest city of France.\",\n",
    "    \"The city of Paris is known for its iconic landmarks such as the Eiffel Tower and Louvre Museum.\",\n",
    "    \"Paris is often referred to as the 'City of Love' and is famous for its romantic atmosphere.\",\n",
    "    \"The Seine River flows through the city of Paris, adding to its beauty.\",\n",
    "    \"French is the official language spoken in Paris and throughout the country.\"\n",
    "]\n",
    "\n",
    "# Combine the prompt, question, and retrieved sentences\n",
    "combined_prompt = f\"{prompt}\\n\\nQuestion: {question}\\nRetrieved Sentences:\\n{retrieved_sentences[0]}\\n{retrieved_sentences[1]}\\n{retrieved_sentences[2]}\\n{retrieved_sentences[3]}\\n{retrieved_sentences[4]}\\n\"\n",
    "\n",
    "# Generate the answer using GPT-3\n",
    "response = openai.Completion.create(\n",
    "    engine=\"text-davinci-003\",\n",
    "    prompt=combined_prompt,\n",
    "    max_tokens=100,\n",
    "    n=1,\n",
    "    stop=None,\n",
    "    temperature=0.7,\n",
    "    top_p=1.0,\n",
    "    frequency_penalty=0.0,\n",
    "    presence_penalty=0.0\n",
    ")\n",
    "\n",
    "# Extract and print the generated answer\n",
    "answer = response.choices[0].text.strip()\n",
    "print(\"Generated Answer:\", answer)"
   ]
  },
  {
   "cell_type": "code",
   "execution_count": null,
   "metadata": {},
   "outputs": [],
   "source": []
  }
 ],
 "metadata": {
  "kernelspec": {
   "display_name": "torch",
   "language": "python",
   "name": "python3"
  },
  "language_info": {
   "codemirror_mode": {
    "name": "ipython",
    "version": 3
   },
   "file_extension": ".py",
   "mimetype": "text/x-python",
   "name": "python",
   "nbconvert_exporter": "python",
   "pygments_lexer": "ipython3",
   "version": "3.11.3"
  }
 },
 "nbformat": 4,
 "nbformat_minor": 2
}
